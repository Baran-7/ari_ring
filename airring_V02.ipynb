{
  "cells": [
    {
      "cell_type": "markdown",
      "metadata": {
        "id": "view-in-github",
        "colab_type": "text"
      },
      "source": [
        "<a href=\"https://colab.research.google.com/github/Baran-7/ari_ring/blob/main/airring_V02.ipynb\" target=\"_parent\"><img src=\"https://colab.research.google.com/assets/colab-badge.svg\" alt=\"Open In Colab\"/></a>"
      ]
    },
    {
      "cell_type": "markdown",
      "metadata": {
        "id": "YOnW_ywrIEz5"
      },
      "source": [
        "the code to optimize airrinig and extracting the formula  \n",
        "230 total data"
      ]
    },
    {
      "cell_type": "code",
      "execution_count": 3,
      "metadata": {
        "colab": {
          "base_uri": "https://localhost:8080/"
        },
        "id": "l4pMon1MEZeb",
        "outputId": "f18d8bd9-465b-4215-f883-977a3385baa5"
      },
      "outputs": [
        {
          "output_type": "stream",
          "name": "stdout",
          "text": [
            "Requirement already satisfied: openpyxl in /usr/local/lib/python3.11/dist-packages (3.1.5)\n",
            "Requirement already satisfied: et-xmlfile in /usr/local/lib/python3.11/dist-packages (from openpyxl) (2.0.0)\n",
            "Collecting pytorch-lightning\n",
            "  Downloading pytorch_lightning-2.5.0.post0-py3-none-any.whl.metadata (21 kB)\n",
            "Requirement already satisfied: torch>=2.1.0 in /usr/local/lib/python3.11/dist-packages (from pytorch-lightning) (2.5.1+cu124)\n",
            "Requirement already satisfied: tqdm>=4.57.0 in /usr/local/lib/python3.11/dist-packages (from pytorch-lightning) (4.67.1)\n",
            "Requirement already satisfied: PyYAML>=5.4 in /usr/local/lib/python3.11/dist-packages (from pytorch-lightning) (6.0.2)\n",
            "Requirement already satisfied: fsspec>=2022.5.0 in /usr/local/lib/python3.11/dist-packages (from fsspec[http]>=2022.5.0->pytorch-lightning) (2024.10.0)\n",
            "Collecting torchmetrics>=0.7.0 (from pytorch-lightning)\n",
            "  Downloading torchmetrics-1.6.1-py3-none-any.whl.metadata (21 kB)\n",
            "Requirement already satisfied: packaging>=20.0 in /usr/local/lib/python3.11/dist-packages (from pytorch-lightning) (24.2)\n",
            "Requirement already satisfied: typing-extensions>=4.4.0 in /usr/local/lib/python3.11/dist-packages (from pytorch-lightning) (4.12.2)\n",
            "Collecting lightning-utilities>=0.10.0 (from pytorch-lightning)\n",
            "  Downloading lightning_utilities-0.12.0-py3-none-any.whl.metadata (5.6 kB)\n",
            "Requirement already satisfied: aiohttp!=4.0.0a0,!=4.0.0a1 in /usr/local/lib/python3.11/dist-packages (from fsspec[http]>=2022.5.0->pytorch-lightning) (3.11.11)\n",
            "Requirement already satisfied: setuptools in /usr/local/lib/python3.11/dist-packages (from lightning-utilities>=0.10.0->pytorch-lightning) (75.1.0)\n",
            "Requirement already satisfied: filelock in /usr/local/lib/python3.11/dist-packages (from torch>=2.1.0->pytorch-lightning) (3.17.0)\n",
            "Requirement already satisfied: networkx in /usr/local/lib/python3.11/dist-packages (from torch>=2.1.0->pytorch-lightning) (3.4.2)\n",
            "Requirement already satisfied: jinja2 in /usr/local/lib/python3.11/dist-packages (from torch>=2.1.0->pytorch-lightning) (3.1.5)\n",
            "Collecting nvidia-cuda-nvrtc-cu12==12.4.127 (from torch>=2.1.0->pytorch-lightning)\n",
            "  Downloading nvidia_cuda_nvrtc_cu12-12.4.127-py3-none-manylinux2014_x86_64.whl.metadata (1.5 kB)\n",
            "Collecting nvidia-cuda-runtime-cu12==12.4.127 (from torch>=2.1.0->pytorch-lightning)\n",
            "  Downloading nvidia_cuda_runtime_cu12-12.4.127-py3-none-manylinux2014_x86_64.whl.metadata (1.5 kB)\n",
            "Collecting nvidia-cuda-cupti-cu12==12.4.127 (from torch>=2.1.0->pytorch-lightning)\n",
            "  Downloading nvidia_cuda_cupti_cu12-12.4.127-py3-none-manylinux2014_x86_64.whl.metadata (1.6 kB)\n",
            "Collecting nvidia-cudnn-cu12==9.1.0.70 (from torch>=2.1.0->pytorch-lightning)\n",
            "  Downloading nvidia_cudnn_cu12-9.1.0.70-py3-none-manylinux2014_x86_64.whl.metadata (1.6 kB)\n",
            "Collecting nvidia-cublas-cu12==12.4.5.8 (from torch>=2.1.0->pytorch-lightning)\n",
            "  Downloading nvidia_cublas_cu12-12.4.5.8-py3-none-manylinux2014_x86_64.whl.metadata (1.5 kB)\n",
            "Collecting nvidia-cufft-cu12==11.2.1.3 (from torch>=2.1.0->pytorch-lightning)\n",
            "  Downloading nvidia_cufft_cu12-11.2.1.3-py3-none-manylinux2014_x86_64.whl.metadata (1.5 kB)\n",
            "Collecting nvidia-curand-cu12==10.3.5.147 (from torch>=2.1.0->pytorch-lightning)\n",
            "  Downloading nvidia_curand_cu12-10.3.5.147-py3-none-manylinux2014_x86_64.whl.metadata (1.5 kB)\n",
            "Collecting nvidia-cusolver-cu12==11.6.1.9 (from torch>=2.1.0->pytorch-lightning)\n",
            "  Downloading nvidia_cusolver_cu12-11.6.1.9-py3-none-manylinux2014_x86_64.whl.metadata (1.6 kB)\n",
            "Collecting nvidia-cusparse-cu12==12.3.1.170 (from torch>=2.1.0->pytorch-lightning)\n",
            "  Downloading nvidia_cusparse_cu12-12.3.1.170-py3-none-manylinux2014_x86_64.whl.metadata (1.6 kB)\n",
            "Requirement already satisfied: nvidia-nccl-cu12==2.21.5 in /usr/local/lib/python3.11/dist-packages (from torch>=2.1.0->pytorch-lightning) (2.21.5)\n",
            "Requirement already satisfied: nvidia-nvtx-cu12==12.4.127 in /usr/local/lib/python3.11/dist-packages (from torch>=2.1.0->pytorch-lightning) (12.4.127)\n",
            "Collecting nvidia-nvjitlink-cu12==12.4.127 (from torch>=2.1.0->pytorch-lightning)\n",
            "  Downloading nvidia_nvjitlink_cu12-12.4.127-py3-none-manylinux2014_x86_64.whl.metadata (1.5 kB)\n",
            "Requirement already satisfied: triton==3.1.0 in /usr/local/lib/python3.11/dist-packages (from torch>=2.1.0->pytorch-lightning) (3.1.0)\n",
            "Requirement already satisfied: sympy==1.13.1 in /usr/local/lib/python3.11/dist-packages (from torch>=2.1.0->pytorch-lightning) (1.13.1)\n",
            "Requirement already satisfied: mpmath<1.4,>=1.1.0 in /usr/local/lib/python3.11/dist-packages (from sympy==1.13.1->torch>=2.1.0->pytorch-lightning) (1.3.0)\n",
            "Requirement already satisfied: numpy>1.20.0 in /usr/local/lib/python3.11/dist-packages (from torchmetrics>=0.7.0->pytorch-lightning) (1.26.4)\n",
            "Requirement already satisfied: aiohappyeyeballs>=2.3.0 in /usr/local/lib/python3.11/dist-packages (from aiohttp!=4.0.0a0,!=4.0.0a1->fsspec[http]>=2022.5.0->pytorch-lightning) (2.4.4)\n",
            "Requirement already satisfied: aiosignal>=1.1.2 in /usr/local/lib/python3.11/dist-packages (from aiohttp!=4.0.0a0,!=4.0.0a1->fsspec[http]>=2022.5.0->pytorch-lightning) (1.3.2)\n",
            "Requirement already satisfied: attrs>=17.3.0 in /usr/local/lib/python3.11/dist-packages (from aiohttp!=4.0.0a0,!=4.0.0a1->fsspec[http]>=2022.5.0->pytorch-lightning) (25.1.0)\n",
            "Requirement already satisfied: frozenlist>=1.1.1 in /usr/local/lib/python3.11/dist-packages (from aiohttp!=4.0.0a0,!=4.0.0a1->fsspec[http]>=2022.5.0->pytorch-lightning) (1.5.0)\n",
            "Requirement already satisfied: multidict<7.0,>=4.5 in /usr/local/lib/python3.11/dist-packages (from aiohttp!=4.0.0a0,!=4.0.0a1->fsspec[http]>=2022.5.0->pytorch-lightning) (6.1.0)\n",
            "Requirement already satisfied: propcache>=0.2.0 in /usr/local/lib/python3.11/dist-packages (from aiohttp!=4.0.0a0,!=4.0.0a1->fsspec[http]>=2022.5.0->pytorch-lightning) (0.2.1)\n",
            "Requirement already satisfied: yarl<2.0,>=1.17.0 in /usr/local/lib/python3.11/dist-packages (from aiohttp!=4.0.0a0,!=4.0.0a1->fsspec[http]>=2022.5.0->pytorch-lightning) (1.18.3)\n",
            "Requirement already satisfied: MarkupSafe>=2.0 in /usr/local/lib/python3.11/dist-packages (from jinja2->torch>=2.1.0->pytorch-lightning) (3.0.2)\n",
            "Requirement already satisfied: idna>=2.0 in /usr/local/lib/python3.11/dist-packages (from yarl<2.0,>=1.17.0->aiohttp!=4.0.0a0,!=4.0.0a1->fsspec[http]>=2022.5.0->pytorch-lightning) (3.10)\n",
            "Downloading pytorch_lightning-2.5.0.post0-py3-none-any.whl (819 kB)\n",
            "\u001b[2K   \u001b[90m━━━━━━━━━━━━━━━━━━━━━━━━━━━━━━━━━━━━━━━━\u001b[0m \u001b[32m819.3/819.3 kB\u001b[0m \u001b[31m7.0 MB/s\u001b[0m eta \u001b[36m0:00:00\u001b[0m\n",
            "\u001b[?25hDownloading lightning_utilities-0.12.0-py3-none-any.whl (28 kB)\n",
            "Downloading nvidia_cublas_cu12-12.4.5.8-py3-none-manylinux2014_x86_64.whl (363.4 MB)\n",
            "\u001b[2K   \u001b[90m━━━━━━━━━━━━━━━━━━━━━━━━━━━━━━━━━━━━━━━━\u001b[0m \u001b[32m363.4/363.4 MB\u001b[0m \u001b[31m4.3 MB/s\u001b[0m eta \u001b[36m0:00:00\u001b[0m\n",
            "\u001b[?25hDownloading nvidia_cuda_cupti_cu12-12.4.127-py3-none-manylinux2014_x86_64.whl (13.8 MB)\n",
            "\u001b[2K   \u001b[90m━━━━━━━━━━━━━━━━━━━━━━━━━━━━━━━━━━━━━━━━\u001b[0m \u001b[32m13.8/13.8 MB\u001b[0m \u001b[31m54.6 MB/s\u001b[0m eta \u001b[36m0:00:00\u001b[0m\n",
            "\u001b[?25hDownloading nvidia_cuda_nvrtc_cu12-12.4.127-py3-none-manylinux2014_x86_64.whl (24.6 MB)\n",
            "\u001b[2K   \u001b[90m━━━━━━━━━━━━━━━━━━━━━━━━━━━━━━━━━━━━━━━━\u001b[0m \u001b[32m24.6/24.6 MB\u001b[0m \u001b[31m32.8 MB/s\u001b[0m eta \u001b[36m0:00:00\u001b[0m\n",
            "\u001b[?25hDownloading nvidia_cuda_runtime_cu12-12.4.127-py3-none-manylinux2014_x86_64.whl (883 kB)\n",
            "\u001b[2K   \u001b[90m━━━━━━━━━━━━━━━━━━━━━━━━━━━━━━━━━━━━━━━━\u001b[0m \u001b[32m883.7/883.7 kB\u001b[0m \u001b[31m47.6 MB/s\u001b[0m eta \u001b[36m0:00:00\u001b[0m\n",
            "\u001b[?25hDownloading nvidia_cudnn_cu12-9.1.0.70-py3-none-manylinux2014_x86_64.whl (664.8 MB)\n",
            "\u001b[2K   \u001b[90m━━━━━━━━━━━━━━━━━━━━━━━━━━━━━━━━━━━━━━━━\u001b[0m \u001b[32m664.8/664.8 MB\u001b[0m \u001b[31m2.1 MB/s\u001b[0m eta \u001b[36m0:00:00\u001b[0m\n",
            "\u001b[?25hDownloading nvidia_cufft_cu12-11.2.1.3-py3-none-manylinux2014_x86_64.whl (211.5 MB)\n",
            "\u001b[2K   \u001b[90m━━━━━━━━━━━━━━━━━━━━━━━━━━━━━━━━━━━━━━━━\u001b[0m \u001b[32m211.5/211.5 MB\u001b[0m \u001b[31m6.1 MB/s\u001b[0m eta \u001b[36m0:00:00\u001b[0m\n",
            "\u001b[?25hDownloading nvidia_curand_cu12-10.3.5.147-py3-none-manylinux2014_x86_64.whl (56.3 MB)\n",
            "\u001b[2K   \u001b[90m━━━━━━━━━━━━━━━━━━━━━━━━━━━━━━━━━━━━━━━━\u001b[0m \u001b[32m56.3/56.3 MB\u001b[0m \u001b[31m8.2 MB/s\u001b[0m eta \u001b[36m0:00:00\u001b[0m\n",
            "\u001b[?25hDownloading nvidia_cusolver_cu12-11.6.1.9-py3-none-manylinux2014_x86_64.whl (127.9 MB)\n",
            "\u001b[2K   \u001b[90m━━━━━━━━━━━━━━━━━━━━━━━━━━━━━━━━━━━━━━━━\u001b[0m \u001b[32m127.9/127.9 MB\u001b[0m \u001b[31m8.0 MB/s\u001b[0m eta \u001b[36m0:00:00\u001b[0m\n",
            "\u001b[?25hDownloading nvidia_cusparse_cu12-12.3.1.170-py3-none-manylinux2014_x86_64.whl (207.5 MB)\n",
            "\u001b[2K   \u001b[90m━━━━━━━━━━━━━━━━━━━━━━━━━━━━━━━━━━━━━━━━\u001b[0m \u001b[32m207.5/207.5 MB\u001b[0m \u001b[31m6.4 MB/s\u001b[0m eta \u001b[36m0:00:00\u001b[0m\n",
            "\u001b[?25hDownloading nvidia_nvjitlink_cu12-12.4.127-py3-none-manylinux2014_x86_64.whl (21.1 MB)\n",
            "\u001b[2K   \u001b[90m━━━━━━━━━━━━━━━━━━━━━━━━━━━━━━━━━━━━━━━━\u001b[0m \u001b[32m21.1/21.1 MB\u001b[0m \u001b[31m65.7 MB/s\u001b[0m eta \u001b[36m0:00:00\u001b[0m\n",
            "\u001b[?25hDownloading torchmetrics-1.6.1-py3-none-any.whl (927 kB)\n",
            "\u001b[2K   \u001b[90m━━━━━━━━━━━━━━━━━━━━━━━━━━━━━━━━━━━━━━━━\u001b[0m \u001b[32m927.3/927.3 kB\u001b[0m \u001b[31m53.4 MB/s\u001b[0m eta \u001b[36m0:00:00\u001b[0m\n",
            "\u001b[?25hInstalling collected packages: nvidia-nvjitlink-cu12, nvidia-curand-cu12, nvidia-cufft-cu12, nvidia-cuda-runtime-cu12, nvidia-cuda-nvrtc-cu12, nvidia-cuda-cupti-cu12, nvidia-cublas-cu12, lightning-utilities, nvidia-cusparse-cu12, nvidia-cudnn-cu12, nvidia-cusolver-cu12, torchmetrics, pytorch-lightning\n",
            "  Attempting uninstall: nvidia-nvjitlink-cu12\n",
            "    Found existing installation: nvidia-nvjitlink-cu12 12.5.82\n",
            "    Uninstalling nvidia-nvjitlink-cu12-12.5.82:\n",
            "      Successfully uninstalled nvidia-nvjitlink-cu12-12.5.82\n",
            "  Attempting uninstall: nvidia-curand-cu12\n",
            "    Found existing installation: nvidia-curand-cu12 10.3.6.82\n",
            "    Uninstalling nvidia-curand-cu12-10.3.6.82:\n",
            "      Successfully uninstalled nvidia-curand-cu12-10.3.6.82\n",
            "  Attempting uninstall: nvidia-cufft-cu12\n",
            "    Found existing installation: nvidia-cufft-cu12 11.2.3.61\n",
            "    Uninstalling nvidia-cufft-cu12-11.2.3.61:\n",
            "      Successfully uninstalled nvidia-cufft-cu12-11.2.3.61\n",
            "  Attempting uninstall: nvidia-cuda-runtime-cu12\n",
            "    Found existing installation: nvidia-cuda-runtime-cu12 12.5.82\n",
            "    Uninstalling nvidia-cuda-runtime-cu12-12.5.82:\n",
            "      Successfully uninstalled nvidia-cuda-runtime-cu12-12.5.82\n",
            "  Attempting uninstall: nvidia-cuda-nvrtc-cu12\n",
            "    Found existing installation: nvidia-cuda-nvrtc-cu12 12.5.82\n",
            "    Uninstalling nvidia-cuda-nvrtc-cu12-12.5.82:\n",
            "      Successfully uninstalled nvidia-cuda-nvrtc-cu12-12.5.82\n",
            "  Attempting uninstall: nvidia-cuda-cupti-cu12\n",
            "    Found existing installation: nvidia-cuda-cupti-cu12 12.5.82\n",
            "    Uninstalling nvidia-cuda-cupti-cu12-12.5.82:\n",
            "      Successfully uninstalled nvidia-cuda-cupti-cu12-12.5.82\n",
            "  Attempting uninstall: nvidia-cublas-cu12\n",
            "    Found existing installation: nvidia-cublas-cu12 12.5.3.2\n",
            "    Uninstalling nvidia-cublas-cu12-12.5.3.2:\n",
            "      Successfully uninstalled nvidia-cublas-cu12-12.5.3.2\n",
            "  Attempting uninstall: nvidia-cusparse-cu12\n",
            "    Found existing installation: nvidia-cusparse-cu12 12.5.1.3\n",
            "    Uninstalling nvidia-cusparse-cu12-12.5.1.3:\n",
            "      Successfully uninstalled nvidia-cusparse-cu12-12.5.1.3\n",
            "  Attempting uninstall: nvidia-cudnn-cu12\n",
            "    Found existing installation: nvidia-cudnn-cu12 9.3.0.75\n",
            "    Uninstalling nvidia-cudnn-cu12-9.3.0.75:\n",
            "      Successfully uninstalled nvidia-cudnn-cu12-9.3.0.75\n",
            "  Attempting uninstall: nvidia-cusolver-cu12\n",
            "    Found existing installation: nvidia-cusolver-cu12 11.6.3.83\n",
            "    Uninstalling nvidia-cusolver-cu12-11.6.3.83:\n",
            "      Successfully uninstalled nvidia-cusolver-cu12-11.6.3.83\n",
            "Successfully installed lightning-utilities-0.12.0 nvidia-cublas-cu12-12.4.5.8 nvidia-cuda-cupti-cu12-12.4.127 nvidia-cuda-nvrtc-cu12-12.4.127 nvidia-cuda-runtime-cu12-12.4.127 nvidia-cudnn-cu12-9.1.0.70 nvidia-cufft-cu12-11.2.1.3 nvidia-curand-cu12-10.3.5.147 nvidia-cusolver-cu12-11.6.1.9 nvidia-cusparse-cu12-12.3.1.170 nvidia-nvjitlink-cu12-12.4.127 pytorch-lightning-2.5.0.post0 torchmetrics-1.6.1\n"
          ]
        }
      ],
      "source": [
        "import pandas as pd\n",
        "import torch\n",
        "from torch import nn\n",
        "!pip install openpyxl\n",
        "import torch.optim as optim\n",
        "import numpy as np\n",
        "import torch.optim as optim\n",
        "!pip install pytorch-lightning\n",
        "import pytorch_lightning as pl\n",
        "from pytorch_lightning.callbacks import EarlyStopping\n",
        "import matplotlib.pyplot as plt"
      ]
    },
    {
      "cell_type": "code",
      "source": [],
      "metadata": {
        "id": "8JhKIZ7IwdPa"
      },
      "execution_count": null,
      "outputs": []
    },
    {
      "cell_type": "markdown",
      "metadata": {
        "id": "bBZLDes3ykWu"
      },
      "source": [
        "\n",
        "*   importing data\n"
      ]
    },
    {
      "cell_type": "code",
      "execution_count": 4,
      "metadata": {
        "colab": {
          "base_uri": "https://localhost:8080/"
        },
        "id": "XtEShpxfsD1c",
        "outputId": "27a14b5c-7d37-4227-ff91-2df32f0b72bb"
      },
      "outputs": [
        {
          "output_type": "stream",
          "name": "stdout",
          "text": [
            "Mounted at /content/drive\n",
            "torch.Size([230, 9])\n"
          ]
        }
      ],
      "source": [
        "#connecting to the one drive and I choosed agree on all the levels\n",
        "from google.colab import drive\n",
        "drive.mount('/content/drive')\n",
        "#importing the exact folder name\n",
        "file_path = \"/content/drive/My Drive/air_ring/export airring data.xlsx\"\n",
        "#checking what is in the directory\n",
        "#import os\n",
        "# Adjust the path to your folder\n",
        "#folder_path = \"/content/drive/My Drive/air_ring\"\n",
        "#print(os.listdir(folder_path))\n",
        "#loading the data\n",
        "#data = pd.read_excel('/content/export airring data.xlsx'): the chat gpt's mistake :)))))\n",
        "data = pd.read_excel('/content/drive/My Drive/air_ring/export airring data.xlsx')\n",
        "ten_raw_data = torch.tensor(data.values, dtype = torch.float32)\n",
        "\n",
        "print(ten_raw_data.shape)"
      ]
    },
    {
      "cell_type": "markdown",
      "metadata": {
        "id": "xoMPz7JbyuXH"
      },
      "source": [
        "\n",
        "\n",
        "*   defining x, y and spliting\n"
      ]
    },
    {
      "cell_type": "code",
      "execution_count": 5,
      "metadata": {
        "colab": {
          "base_uri": "https://localhost:8080/"
        },
        "id": "C7MzJj9mvhZP",
        "outputId": "825cecd0-93b2-4381-f553-7f99875210c9"
      },
      "outputs": [
        {
          "output_type": "stream",
          "name": "stdout",
          "text": [
            "tensor([[120.0000,   5.4000,   9.5000,  45.0000,   1.4000,   2.8000,   8.0000,\n",
            "           6.4000],\n",
            "        [120.0000,   5.4000,   9.5000,  45.0000,   1.4000,   2.9000,   8.0000,\n",
            "           6.4000],\n",
            "        [120.0000,   5.4000,   9.5000,  45.0000,   1.4000,   2.7000,   8.0000,\n",
            "           6.4000],\n",
            "        [120.0000,   5.4000,   9.5000,  45.0000,   1.4000,   3.1000,   8.0000,\n",
            "           6.4000],\n",
            "        [120.0000,   5.4000,   9.5000,  45.0000,   1.4000,   3.2000,   8.0000,\n",
            "           6.4000]]) tensor([356.7520, 356.7110, 356.7620, 356.8780, 356.9080])\n",
            "shape of the input train tensor is: torch.Size([147, 8])\n",
            "shape of output train tensor is: torch.Size([147])\n",
            "shape of input test tensor is: torch.Size([46, 8])\n",
            "shape of output test tensor is: torch.Size([46])\n"
          ]
        }
      ],
      "source": [
        "#setting input and output data\n",
        "x = ten_raw_data[:,:8]\n",
        "y = ten_raw_data[:,8]\n",
        "#y = ten_raw_data[:,8].unsqueeze(1)\n",
        "\n",
        "# View the first five samples\n",
        "print(x[:5], y[:5])\n",
        "\n",
        "#spliting data\n",
        "from sklearn.model_selection import train_test_split\n",
        "x_train_p, x_test, y_train_p, y_test = train_test_split(x,\n",
        "                                                        y,\n",
        "                                                        test_size=0.2, # 20% test, 80% train\n",
        "                                                        random_state=42) # make the random split reproducable\n",
        "\n",
        "#spliting the train data into test and validation\n",
        "x_train, x_valid, y_train, y_valid = train_test_split(x_train_p,\n",
        "                                                                y_train_p,\n",
        "                                                                test_size=0.2, # 20% validation, 80% train\n",
        "                                                                random_state=42) # make the random split reproducable\n",
        "\n",
        "#shape checking\n",
        "print(f\"shape of the input train tensor is: {x_train.shape}\\nshape of output train tensor is: {y_train.shape}\\nshape of input test tensor is: {x_test.shape}\\nshape of output test tensor is: {y_test.shape}\")\n",
        "#print(y[:5])"
      ]
    },
    {
      "cell_type": "markdown",
      "metadata": {
        "id": "c1ghxTddjRHW"
      },
      "source": [
        "now we want to scale the data using min max scalar in skitlearn"
      ]
    },
    {
      "cell_type": "code",
      "execution_count": 6,
      "metadata": {
        "colab": {
          "base_uri": "https://localhost:8080/"
        },
        "id": "D1fKnvpIjeBc",
        "outputId": "4ce2dd6f-2382-497b-e3aa-7a4b9d9ca390"
      },
      "outputs": [
        {
          "output_type": "stream",
          "name": "stdout",
          "text": [
            "shape of the input train tensor is: torch.Size([147, 8])\n",
            "shape of output train tensor is: torch.Size([147, 1])\n",
            "shape of input test tensor is: torch.Size([46, 8])\n",
            "shape of output test tensor is: torch.Size([46, 1])\n",
            "shape of input valida tensor is: torch.Size([37, 8])\n",
            "shape of oiutput valid tensor is: torch.Size([37, 1])\n"
          ]
        }
      ],
      "source": [
        "from sklearn.preprocessing import MinMaxScaler\n",
        "\n",
        "#x scale\n",
        "scaler = MinMaxScaler()\n",
        "x_train_s = scaler.fit_transform(x_train)\n",
        "x_valid_s = scaler.transform(x_valid)\n",
        "x_test_s = scaler.transform(x_test)\n",
        "\n",
        "x_train_s_ten = torch.tensor(x_train_s, dtype = torch.float32)\n",
        "x_test_s_ten = torch.tensor(x_test_s, dtype = torch.float32)\n",
        "x_valid_s_ten = torch.tensor(x_valid_s, dtype = torch.float32)\n",
        "\n",
        "#y scale\n",
        "y_scaler = MinMaxScaler()\n",
        "y_train_s = y_scaler.fit_transform(y_train.reshape(-1, 1))\n",
        "y_valid_s = y_scaler.transform(y_valid.reshape(-1, 1))\n",
        "y_test_s = y_scaler.transform(y_test.reshape(-1, 1))\n",
        "\n",
        "y_train_s_ten = torch.tensor(y_train_s, dtype = torch.float32)\n",
        "y_test_s_ten = torch.tensor(y_test_s, dtype = torch.float32)\n",
        "y_valid_s_ten = torch.tensor(y_valid_s, dtype = torch.float32)\n",
        "\n",
        "#shape checking\n",
        "print(f\"shape of the input train tensor is: {x_train_s_ten.shape}\\nshape of output train tensor is: {y_train_s_ten.shape}\"\n",
        "      f\"\\nshape of input test tensor is: {x_test_s_ten.shape}\\nshape of output test tensor is: {y_test_s_ten.shape}\"\n",
        "      f\"\\nshape of input valida tensor is: {x_valid_s_ten.shape}\\nshape of oiutput valid tensor is: {y_valid_s_ten.shape}\")\n"
      ]
    },
    {
      "cell_type": "code",
      "execution_count": 7,
      "metadata": {
        "colab": {
          "base_uri": "https://localhost:8080/",
          "height": 35
        },
        "id": "NQiZyflmJbu1",
        "outputId": "051701a3-f878-49f1-d05a-4de331339abc"
      },
      "outputs": [
        {
          "output_type": "execute_result",
          "data": {
            "text/plain": [
              "'cpu'"
            ],
            "application/vnd.google.colaboratory.intrinsic+json": {
              "type": "string"
            }
          },
          "metadata": {},
          "execution_count": 7
        }
      ],
      "source": [
        "# Make device agnostic code\n",
        "device = \"cuda\" if torch.cuda.is_available() else \"cpu\"\n",
        "device"
      ]
    },
    {
      "cell_type": "markdown",
      "metadata": {
        "id": "zSESA8Y516Kw"
      },
      "source": [
        "\n",
        "\n",
        "*   creating the model\n"
      ]
    },
    {
      "cell_type": "code",
      "execution_count": 8,
      "metadata": {
        "id": "nz76pU19NwU0"
      },
      "outputs": [],
      "source": [
        "#self.activation_1 = nn.ReLU()  # ReLU after layer_1\n",
        "#self.activation_2 = nn.Sigmoid()  # Sigmoid after layer_2\n",
        "\n",
        "      #def forward(self, x_train):\n",
        "        # Apply layer_1 followed by ReLU activation\n",
        "       # x = self.activation_1(self.layer_1(x_train))\n",
        "\n",
        "        # Apply layer_2 followed by Sigmoid activation\n",
        "        #x = self.activation_2(self.layer_2(x))\n",
        "\n",
        "        # Apply layer_3 (no activation function here)\n",
        "        #return self.layer_3(x)"
      ]
    },
    {
      "cell_type": "code",
      "execution_count": 9,
      "metadata": {
        "colab": {
          "base_uri": "https://localhost:8080/"
        },
        "id": "YgkVIV9PNWL0",
        "outputId": "01727237-d4c3-4138-8447-2faa9a36aa68"
      },
      "outputs": [
        {
          "output_type": "execute_result",
          "data": {
            "text/plain": [
              "nonlinearregression(\n",
              "  (layer_1): Linear(in_features=8, out_features=10, bias=True)\n",
              "  (layer_2): Linear(in_features=10, out_features=5, bias=True)\n",
              "  (layer_3): Linear(in_features=5, out_features=1, bias=True)\n",
              ")"
            ]
          },
          "metadata": {},
          "execution_count": 9
        }
      ],
      "source": [
        "#nonlinear regression\n",
        "\n",
        "from torch import nn\n",
        "class nonlinearregression(nn.Module):\n",
        "  def __init__(self):\n",
        "    super().__init__()\n",
        "    #the model architecture\n",
        "    # lets creat a 1 hidden layer neural network but infdeed 3 layers\n",
        "    self.layer_1 = nn.Linear(in_features=8, out_features=10)\n",
        "    self.layer_2 = nn.Linear(in_features=10, out_features=5)\n",
        "    self.layer_3 = nn.Linear(in_features=5, out_features=1)\n",
        "\n",
        "\n",
        "  def forward(self, x_train_s_ten):\n",
        "  #  return(self.layer_3(self.layer_2(self.layer_1(x_train))))\n",
        "    x_train_s_ten = torch.relu(self.layer_1(x_train_s_ten))\n",
        "    x_train_s_ten = torch.relu(self.layer_2(x_train_s_ten))\n",
        "    return self.layer_3(x_train_s_ten)\n",
        "\n",
        "\n",
        "\n",
        "\n",
        "model_0 = nonlinearregression().to(device)\n",
        "model_0"
      ]
    },
    {
      "cell_type": "code",
      "execution_count": null,
      "metadata": {
        "id": "dSuvqrmVYFL0"
      },
      "outputs": [],
      "source": [
        "#untrained_preds = model_0(x_test.to(device))\n",
        "#print(f\"Length of predictions: {len(untrained_preds)}, Shape: {untrained_preds.shape}\")\n",
        "#print(f\"Length of test samples: {len(output_test_data)}, Shape: {output_test_data.shape}\")\n",
        "#print(f\"\\nFirst 10 predictions:\\n{untrained_preds[:10]}\")\n",
        "#print(f\"\\nFirst 10 test labels:\\n{output_test_data[:10]}\")"
      ]
    },
    {
      "cell_type": "markdown",
      "metadata": {
        "id": "W84qRiia7J2s"
      },
      "source": [
        "\n",
        "\n",
        "1.   List item\n",
        "2.   List item\n",
        "\n",
        "\n",
        "\n",
        "*   setting optimizer and loss function\n"
      ]
    },
    {
      "cell_type": "code",
      "execution_count": 10,
      "metadata": {
        "id": "W8QfKKXu_jx4"
      },
      "outputs": [],
      "source": [
        "# Create a loss function\n",
        "#using mean square error\n",
        "loss_fn = nn.MSELoss()\n",
        "\n",
        "# Create an optimizer\n",
        "optimizer = torch.optim.SGD(params=model_0.parameters(),\n",
        "                            lr=0.01)"
      ]
    },
    {
      "cell_type": "markdown",
      "metadata": {
        "id": "dr6jZu9xD2HW"
      },
      "source": [
        "\n",
        "\n",
        "*   test and train loop\n"
      ]
    },
    {
      "cell_type": "code",
      "execution_count": 11,
      "metadata": {
        "colab": {
          "base_uri": "https://localhost:8080/",
          "height": 519
        },
        "id": "6KTOyCuiD1nL",
        "outputId": "32b26566-4240-44d7-eb8d-7071a0448f77"
      },
      "outputs": [
        {
          "output_type": "stream",
          "name": "stderr",
          "text": [
            "/usr/local/lib/python3.11/dist-packages/torch/nn/modules/loss.py:608: UserWarning: Using a target size (torch.Size([147, 1])) that is different to the input size (torch.Size([147])). This will likely lead to incorrect results due to broadcasting. Please ensure they have the same size.\n",
            "  return F.mse_loss(input, target, reduction=self.reduction)\n"
          ]
        },
        {
          "output_type": "stream",
          "name": "stdout",
          "text": [
            "Epoch: 0 | Loss: 0.3006485 | Test loss: 0.2899099 \n",
            "Epoch: 100 | Loss: 0.0199017 | Test loss: 0.0248928 \n"
          ]
        },
        {
          "output_type": "display_data",
          "data": {
            "text/plain": [
              "<Figure size 640x480 with 1 Axes>"
            ],
            "image/png": "[encoded data removed]"
          },
          "metadata": {}
        }
      ],
      "source": [
        "torch.manual_seed(42)\n",
        "\n",
        "# Set the number of epochs\n",
        "epochs = 200\n",
        "epochs_count = []\n",
        "train_loss_values = []\n",
        "eval_loss_values  = []\n",
        "\n",
        "# Put data to target device\n",
        "x_train_s_ten, y_train_s_ten = x_train_s_ten.to(device), y_train_s_ten.to(device)\n",
        "x_test_s_ten, y_test_s_ten = x_test_s_ten.to(device), y_test_s_ten.to(device)\n",
        "x_valid_s_ten, y_valid_s_ten = x_valid_s_ten.to(device), y_valid_s_ten.to(device)\n",
        "\n",
        "# Build training and evaluation loop\n",
        "for epoch in range(epochs):\n",
        "\n",
        "    epochs_count.append(epoch)\n",
        "\n",
        "    ### Training\n",
        "    model_0.train()\n",
        "\n",
        "    y_pred_train = model_0(x_train_s_ten).squeeze() # squeeze to remove extra `1` dimensions\n",
        "\n",
        "    loss = loss_fn(y_pred_train,y_train_s_ten)\n",
        "    train_loss_values.append(100*loss.detach().numpy())\n",
        "\n",
        "    #Optimizer zero grad\n",
        "    optimizer.zero_grad()\n",
        "\n",
        "    # 4. Loss backwards\n",
        "    loss.backward()\n",
        "\n",
        "    # 5. Optimizer step\n",
        "    optimizer.step()\n",
        "\n",
        "    ### Testing\n",
        "    model_0.eval()\n",
        "    with torch.inference_mode():\n",
        "        #Forward pass\n",
        "        y_pred_test = model_0(x_valid_s_ten.squeeze())\n",
        "        #Caculate loss\n",
        "        test_loss = loss_fn(y_pred_test,y_valid_s_ten)\n",
        "        eval_loss_values.append(100*test_loss.detach().numpy())\n",
        "\n",
        "    # Print out what's happening every 10 epochs\n",
        "    if epoch % 100 == 0:\n",
        "        print(f\"Epoch: {epoch} | Loss: {loss:.7f} | Test loss: {test_loss:.7f} \")\n",
        "\n",
        "    # EarlyStopping callback setup\n",
        "    early_stop_callback = EarlyStopping(\n",
        "      monitor=\"val_loss\",  # Metric to monitor\n",
        "      patience=3,          # How many epochs to wait for improvement\n",
        "      verbose=True,        # Print messages when early stopping is triggered\n",
        "      mode=\"min\"           # We want to minimize the monitored metric\n",
        "    )\n",
        "\n",
        "plt.plot(epochs_count,train_loss_values, label=\"train loss\", color=\"blue\", marker=\"o\")\n",
        "plt.plot(epochs_count,eval_loss_values, label=\"eval loss\", color=\"red\", marker=\"s\")\n",
        "plt.legend()\n",
        "plt.show()\n"
      ]
    },
    {
      "cell_type": "markdown",
      "source": [
        "to evaluate with unseen data set which is considred as test set"
      ],
      "metadata": {
        "id": "HLOnj9E_O7Qv"
      }
    },
    {
      "cell_type": "markdown",
      "source": [
        "I recieved an error: means that you're trying to convert a PyTorch tensor (which has requires_grad=True) directly to a NumPy array. PyTorch doesn't allow this because tensors with requires_grad=True track gradients for backpropagation.\n",
        "You need to detach the tensor from the computation graph before converting it to a NumPy array."
      ],
      "metadata": {
        "id": "Hq8Bgga6Yplo"
      }
    },
    {
      "cell_type": "code",
      "source": [
        "y_preds = model_0(x_test_s_ten).detach().numpy()\n",
        "plt.scatter(y_preds,y_test_s_ten, color='red', linestyle='-', marker='o')"
      ],
      "metadata": {
        "colab": {
          "base_uri": "https://localhost:8080/",
          "height": 447
        },
        "id": "MOVQZYzbTBFw",
        "outputId": "866f98f8-790a-420e-f64e-fd4e26e9d567"
      },
      "execution_count": 12,
      "outputs": [
        {
          "output_type": "execute_result",
          "data": {
            "text/plain": [
              "<matplotlib.collections.PathCollection at 0x7bf6f8b58510>"
            ]
          },
          "metadata": {},
          "execution_count": 12
        },
        {
          "output_type": "display_data",
          "data": {
            "text/plain": [
              "<Figure size 640x480 with 1 Axes>"
            ],
            "image/png": "[encoded data removed]"
          },
          "metadata": {}
        }
      ]
    },
    {
      "cell_type": "code",
      "source": [],
      "metadata": {
        "id": "34eZsbycUJ1O"
      },
      "execution_count": null,
      "outputs": []
    }
  ],
  "metadata": {
    "colab": {
      "provenance": [],
      "authorship_tag": "ABX9TyOgy2MMJkict2lyh0qSuyLO",
      "include_colab_link": true
    },
    "kernelspec": {
      "display_name": "Python 3",
      "name": "python3"
    },
    "language_info": {
      "name": "python"
    }
  },
  "nbformat": 4,
  "nbformat_minor": 0
}