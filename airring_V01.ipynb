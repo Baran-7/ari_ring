{
  "cells": [
    {
      "cell_type": "markdown",
      "metadata": {
        "id": "view-in-github",
        "colab_type": "text"
      },
      "source": [
        "<a href=\"https://colab.research.google.com/github/Baran-7/ari_ring/blob/main/airring_V01.ipynb\" target=\"_parent\"><img src=\"https://colab.research.google.com/assets/colab-badge.svg\" alt=\"Open In Colab\"/></a>"
      ]
    },
    {
      "cell_type": "markdown",
      "metadata": {
        "id": "YOnW_ywrIEz5"
      },
      "source": [
        "the code to optimize airrinig and extracting the formula  \n",
        "230 total data"
      ]
    },
    {
      "cell_type": "code",
      "execution_count": 21,
      "metadata": {
        "colab": {
          "base_uri": "https://localhost:8080/"
        },
        "id": "l4pMon1MEZeb",
        "outputId": "49a68a0d-4b02-43de-955a-6a2a9091274d"
      },
      "outputs": [
        {
          "output_type": "stream",
          "name": "stdout",
          "text": [
            "Requirement already satisfied: openpyxl in /usr/local/lib/python3.11/dist-packages (3.1.5)\n",
            "Requirement already satisfied: et-xmlfile in /usr/local/lib/python3.11/dist-packages (from openpyxl) (2.0.0)\n"
          ]
        }
      ],
      "source": [
        "import pandas as pd\n",
        "import torch\n",
        "from torch import nn\n",
        "!pip install openpyxl\n",
        "import torch.optim as optim\n",
        "import numpy as np\n",
        "import torch.optim as optim\n",
        "#!pip install pytorch-lightning\n",
        "import pytorch_lightning as pl\n",
        "from pytorch_lightning.callbacks import EarlyStopping\n",
        "import matplotlib.pyplot as plt"
      ]
    },
    {
      "cell_type": "markdown",
      "metadata": {
        "id": "bBZLDes3ykWu"
      },
      "source": [
        "\n",
        "*   importing data\n"
      ]
    },
    {
      "cell_type": "code",
      "execution_count": null,
      "metadata": {
        "colab": {
          "base_uri": "https://localhost:8080/"
        },
        "id": "XtEShpxfsD1c",
        "outputId": "d0c85cde-c572-485d-fcd0-22b77d409ca0"
      },
      "outputs": [
        {
          "output_type": "stream",
          "name": "stdout",
          "text": [
            "Drive already mounted at /content/drive; to attempt to forcibly remount, call drive.mount(\"/content/drive\", force_remount=True).\n",
            "torch.Size([230, 9])\n"
          ]
        }
      ],
      "source": [
        "#connecting to the one drive and I choosed agree on all the levels\n",
        "from google.colab import drive\n",
        "drive.mount('/content/drive')\n",
        "#importing the exact folder name\n",
        "file_path = \"/content/drive/My Drive/air_ring/export airring data.xlsx\"\n",
        "#checking what is in the directory\n",
        "#import os\n",
        "# Adjust the path to your folder\n",
        "#folder_path = \"/content/drive/My Drive/air_ring\"\n",
        "#print(os.listdir(folder_path))\n",
        "#loading the data\n",
        "#data = pd.read_excel('/content/export airring data.xlsx'): the chat gpt's mistake :)))))\n",
        "data = pd.read_excel('/content/drive/My Drive/air_ring/export airring data.xlsx')\n",
        "ten_raw_data = torch.tensor(data.values, dtype = torch.float32)\n",
        "\n",
        "print(ten_raw_data.shape)"
      ]
    },
    {
      "cell_type": "markdown",
      "metadata": {
        "id": "xoMPz7JbyuXH"
      },
      "source": [
        "\n",
        "\n",
        "*   defining x, y and spliting\n"
      ]
    },
    {
      "cell_type": "code",
      "execution_count": null,
      "metadata": {
        "colab": {
          "base_uri": "https://localhost:8080/"
        },
        "id": "C7MzJj9mvhZP",
        "outputId": "e699a65f-b3a7-4cbd-9380-7c39d7f3c179"
      },
      "outputs": [
        {
          "output_type": "stream",
          "name": "stdout",
          "text": [
            "tensor([[120.0000,   5.4000,   9.5000,  45.0000,   1.4000,   2.8000,   8.0000,\n",
            "           6.4000],\n",
            "        [120.0000,   5.4000,   9.5000,  45.0000,   1.4000,   2.9000,   8.0000,\n",
            "           6.4000],\n",
            "        [120.0000,   5.4000,   9.5000,  45.0000,   1.4000,   2.7000,   8.0000,\n",
            "           6.4000],\n",
            "        [120.0000,   5.4000,   9.5000,  45.0000,   1.4000,   3.1000,   8.0000,\n",
            "           6.4000],\n",
            "        [120.0000,   5.4000,   9.5000,  45.0000,   1.4000,   3.2000,   8.0000,\n",
            "           6.4000]]) tensor([356.7520, 356.7110, 356.7620, 356.8780, 356.9080])\n",
            "shape of the input train tensor is: torch.Size([147, 8])\n",
            "shape of output train tensor is: torch.Size([147])\n",
            "shape of input test tensor is: torch.Size([46, 8])\n",
            "shape of output test tensor is: torch.Size([46])\n"
          ]
        }
      ],
      "source": [
        "#setting input and output data\n",
        "x = ten_raw_data[:,:8]\n",
        "y = ten_raw_data[:,8]\n",
        "#y = ten_raw_data[:,8].unsqueeze(1)\n",
        "\n",
        "# View the first five samples\n",
        "print(x[:5], y[:5])\n",
        "\n",
        "#spliting data\n",
        "from sklearn.model_selection import train_test_split\n",
        "x_train_p, x_test, y_train_p, y_test = train_test_split(x,\n",
        "                                                        y,\n",
        "                                                        test_size=0.2, # 20% test, 80% train\n",
        "                                                        random_state=42) # make the random split reproducable\n",
        "\n",
        "#spliting the train data into test and validation\n",
        "x_train, x_valid, y_train, y_valid = train_test_split(x_train_p,\n",
        "                                                                y_train_p,\n",
        "                                                                test_size=0.2, # 20% validation, 80% train\n",
        "                                                                random_state=42) # make the random split reproducable\n",
        "\n",
        "#shape checking\n",
        "print(f\"shape of the input train tensor is: {x_train.shape}\\nshape of output train tensor is: {y_train.shape}\\nshape of input test tensor is: {x_test.shape}\\nshape of output test tensor is: {y_test.shape}\")\n",
        "#print(y[:5])"
      ]
    },
    {
      "cell_type": "markdown",
      "metadata": {
        "id": "c1ghxTddjRHW"
      },
      "source": [
        "now we want to scale the data using min max scalar in skitlearn"
      ]
    },
    {
      "cell_type": "code",
      "execution_count": null,
      "metadata": {
        "colab": {
          "base_uri": "https://localhost:8080/"
        },
        "id": "D1fKnvpIjeBc",
        "outputId": "d4c991bf-a7e5-45db-ef57-d11a7d0f0f86"
      },
      "outputs": [
        {
          "output_type": "stream",
          "name": "stdout",
          "text": [
            "shape of the input train tensor is: torch.Size([147, 8])\n",
            "shape of output train tensor is: torch.Size([147, 1])\n",
            "shape of input test tensor is: torch.Size([46, 8])\n",
            "shape of output test tensor is: torch.Size([46, 1])\n",
            "shape of input valida tensor is: torch.Size([37, 8])\n",
            "shape of oiutput valid tensor is: torch.Size([37, 1])\n"
          ]
        }
      ],
      "source": [
        "from sklearn.preprocessing import MinMaxScaler\n",
        "\n",
        "#x scale\n",
        "scaler = MinMaxScaler()\n",
        "x_train_s = scaler.fit_transform(x_train)\n",
        "x_valid_s = scaler.transform(x_valid)\n",
        "x_test_s = scaler.transform(x_test)\n",
        "\n",
        "x_train_s_ten = torch.tensor(x_train_s, dtype = torch.float32)\n",
        "x_test_s_ten = torch.tensor(x_test_s, dtype = torch.float32)\n",
        "x_valid_s_ten = torch.tensor(x_valid_s, dtype = torch.float32)\n",
        "\n",
        "#y scale\n",
        "y_scaler = MinMaxScaler()\n",
        "y_train_s = y_scaler.fit_transform(y_train.reshape(-1, 1))\n",
        "y_valid_s = y_scaler.transform(y_valid.reshape(-1, 1))\n",
        "y_test_s = y_scaler.transform(y_test.reshape(-1, 1))\n",
        "\n",
        "y_train_s_ten = torch.tensor(y_train_s, dtype = torch.float32)\n",
        "y_test_s_ten = torch.tensor(y_test_s, dtype = torch.float32)\n",
        "y_valid_s_ten = torch.tensor(y_valid_s, dtype = torch.float32)\n",
        "\n",
        "#shape checking\n",
        "print(f\"shape of the input train tensor is: {x_train_s_ten.shape}\\nshape of output train tensor is: {y_train_s_ten.shape}\"\n",
        "      f\"\\nshape of input test tensor is: {x_test_s_ten.shape}\\nshape of output test tensor is: {y_test_s_ten.shape}\"\n",
        "      f\"\\nshape of input valida tensor is: {x_valid_s_ten.shape}\\nshape of oiutput valid tensor is: {y_valid_s_ten.shape}\")\n"
      ]
    },
    {
      "cell_type": "code",
      "execution_count": null,
      "metadata": {
        "colab": {
          "base_uri": "https://localhost:8080/",
          "height": 35
        },
        "id": "NQiZyflmJbu1",
        "outputId": "6b8a33bf-dc0f-426c-8e5a-a4ba76166bd2"
      },
      "outputs": [
        {
          "output_type": "execute_result",
          "data": {
            "text/plain": [
              "'cpu'"
            ],
            "application/vnd.google.colaboratory.intrinsic+json": {
              "type": "string"
            }
          },
          "metadata": {},
          "execution_count": 17
        }
      ],
      "source": [
        "# Make device agnostic code\n",
        "device = \"cuda\" if torch.cuda.is_available() else \"cpu\"\n",
        "device"
      ]
    },
    {
      "cell_type": "markdown",
      "metadata": {
        "id": "zSESA8Y516Kw"
      },
      "source": [
        "\n",
        "\n",
        "*   creating the model\n"
      ]
    },
    {
      "cell_type": "code",
      "execution_count": null,
      "metadata": {
        "id": "nz76pU19NwU0"
      },
      "outputs": [],
      "source": [
        "#self.activation_1 = nn.ReLU()  # ReLU after layer_1\n",
        "#self.activation_2 = nn.Sigmoid()  # Sigmoid after layer_2\n",
        "\n",
        "      #def forward(self, x_train):\n",
        "        # Apply layer_1 followed by ReLU activation\n",
        "       # x = self.activation_1(self.layer_1(x_train))\n",
        "\n",
        "        # Apply layer_2 followed by Sigmoid activation\n",
        "        #x = self.activation_2(self.layer_2(x))\n",
        "\n",
        "        # Apply layer_3 (no activation function here)\n",
        "        #return self.layer_3(x)"
      ]
    },
    {
      "cell_type": "code",
      "execution_count": null,
      "metadata": {
        "colab": {
          "base_uri": "https://localhost:8080/"
        },
        "id": "YgkVIV9PNWL0",
        "outputId": "170a9364-d246-4103-ac8d-10739fd2cb32"
      },
      "outputs": [
        {
          "output_type": "execute_result",
          "data": {
            "text/plain": [
              "nonlinearregression(\n",
              "  (layer_1): Linear(in_features=8, out_features=10, bias=True)\n",
              "  (layer_2): Linear(in_features=10, out_features=5, bias=True)\n",
              "  (layer_3): Linear(in_features=5, out_features=1, bias=True)\n",
              ")"
            ]
          },
          "metadata": {},
          "execution_count": 18
        }
      ],
      "source": [
        "#nonlinear regression\n",
        "\n",
        "from torch import nn\n",
        "class nonlinearregression(nn.Module):\n",
        "  def __init__(self):\n",
        "    super().__init__()\n",
        "    #the model architecture\n",
        "    # lets creat a 1 hidden layer neural network but infdeed 3 layers\n",
        "    self.layer_1 = nn.Linear(in_features=8, out_features=10)\n",
        "    self.layer_2 = nn.Linear(in_features=10, out_features=5)\n",
        "    self.layer_3 = nn.Linear(in_features=5, out_features=1)\n",
        "\n",
        "\n",
        "  def forward(self, x_train_s_ten):\n",
        "  #  return(self.layer_3(self.layer_2(self.layer_1(x_train))))\n",
        "    x_train_s_ten = torch.relu(self.layer_1(x_train_s_ten))\n",
        "    x_train_s_ten = torch.relu(self.layer_2(x_train_s_ten))\n",
        "    return self.layer_3(x_train_s_ten)\n",
        "\n",
        "\n",
        "\n",
        "\n",
        "model_0 = nonlinearregression().to(device)\n",
        "model_0"
      ]
    },
    {
      "cell_type": "code",
      "execution_count": null,
      "metadata": {
        "id": "dSuvqrmVYFL0"
      },
      "outputs": [],
      "source": [
        "#untrained_preds = model_0(x_test.to(device))\n",
        "#print(f\"Length of predictions: {len(untrained_preds)}, Shape: {untrained_preds.shape}\")\n",
        "#print(f\"Length of test samples: {len(output_test_data)}, Shape: {output_test_data.shape}\")\n",
        "#print(f\"\\nFirst 10 predictions:\\n{untrained_preds[:10]}\")\n",
        "#print(f\"\\nFirst 10 test labels:\\n{output_test_data[:10]}\")"
      ]
    },
    {
      "cell_type": "markdown",
      "metadata": {
        "id": "W84qRiia7J2s"
      },
      "source": [
        "\n",
        "\n",
        "1.   List item\n",
        "2.   List item\n",
        "\n",
        "\n",
        "\n",
        "*   setting optimizer and loss function\n"
      ]
    },
    {
      "cell_type": "code",
      "execution_count": null,
      "metadata": {
        "id": "W8QfKKXu_jx4"
      },
      "outputs": [],
      "source": [
        "# Create a loss function\n",
        "#using mean square error\n",
        "loss_fn = nn.MSELoss()\n",
        "\n",
        "# Create an optimizer\n",
        "optimizer = torch.optim.SGD(params=model_0.parameters(),\n",
        "                            lr=0.01)"
      ]
    },
    {
      "cell_type": "markdown",
      "metadata": {
        "id": "dr6jZu9xD2HW"
      },
      "source": [
        "\n",
        "\n",
        "*   test and train loop\n"
      ]
    },
    {
      "cell_type": "code",
      "execution_count": 53,
      "metadata": {
        "colab": {
          "base_uri": "https://localhost:8080/",
          "height": 465
        },
        "id": "6KTOyCuiD1nL",
        "outputId": "0ae8f8fe-45e0-4de7-c72a-c986d5cedde1"
      },
      "outputs": [
        {
          "output_type": "stream",
          "name": "stdout",
          "text": [
            "Epoch: 0 | Loss: 0.0172173 | Test loss: 0.0213647 \n",
            "Epoch: 100 | Loss: 0.0172147 | Test loss: 0.0213695 \n"
          ]
        },
        {
          "output_type": "display_data",
          "data": {
            "text/plain": [
              "<Figure size 640x480 with 1 Axes>"
            ],
            "image/png": "[encoded data removed]"
          },
          "metadata": {}
        }
      ],
      "source": [
        "torch.manual_seed(42)\n",
        "\n",
        "# Set the number of epochs\n",
        "epochs = 200\n",
        "epochs_count = []\n",
        "train_loss_values = []\n",
        "eval_loss_values  = []\n",
        "\n",
        "# Put data to target device\n",
        "x_train_s_ten, y_train_s_ten = x_train_s_ten.to(device), y_train_s_ten.to(device)\n",
        "x_test_s_ten, y_test_s_ten = x_test_s_ten.to(device), y_test_s_ten.to(device)\n",
        "x_valid_s_ten, y_valid_s_ten = x_valid_s_ten.to(device), y_valid_s_ten.to(device)\n",
        "\n",
        "# Build training and evaluation loop\n",
        "for epoch in range(epochs):\n",
        "\n",
        "    epochs_count.append(epoch)\n",
        "\n",
        "    ### Training\n",
        "    model_0.train()\n",
        "\n",
        "    y_pred_train = model_0(x_train_s_ten).squeeze() # squeeze to remove extra `1` dimensions\n",
        "\n",
        "    loss = loss_fn(y_pred_train,y_train_s_ten)\n",
        "    train_loss_values.append(loss.detach().numpy())\n",
        "\n",
        "    #Optimizer zero grad\n",
        "    optimizer.zero_grad()\n",
        "\n",
        "    # 4. Loss backwards\n",
        "    loss.backward()\n",
        "\n",
        "    # 5. Optimizer step\n",
        "    optimizer.step()\n",
        "\n",
        "    ### Testing\n",
        "    model_0.eval()\n",
        "    with torch.inference_mode():\n",
        "        #Forward pass\n",
        "        y_pred_test = model_0(x_valid_s_ten.squeeze())\n",
        "        #Caculate loss\n",
        "        test_loss = loss_fn(y_pred_test,y_valid_s_ten)\n",
        "        eval_loss_values.append(test_loss.detach().numpy())\n",
        "\n",
        "    # Print out what's happening every 10 epochs\n",
        "    if epoch % 100 == 0:\n",
        "        print(f\"Epoch: {epoch} | Loss: {loss:.7f} | Test loss: {test_loss:.7f} \")\n",
        "\n",
        "    # EarlyStopping callback setup\n",
        "    early_stop_callback = EarlyStopping(\n",
        "      monitor=\"val_loss\",  # Metric to monitor\n",
        "      patience=3,          # How many epochs to wait for improvement\n",
        "      verbose=True,        # Print messages when early stopping is triggered\n",
        "      mode=\"min\"           # We want to minimize the monitored metric\n",
        "    )\n",
        "\n",
        "plt.plot(epochs_count,train_loss_values, label=\"train loss\", color=\"blue\", marker=\"o\")\n",
        "plt.plot(epochs_count,eval_loss_values, label=\"eval loss\", color=\"red\", marker=\"s\")\n",
        "plt.legend()\n",
        "plt.show()\n"
      ]
    },
    {
      "cell_type": "code",
      "source": [
        "#print(train_loss_values)"
      ],
      "metadata": {
        "colab": {
          "base_uri": "https://localhost:8080/"
        },
        "id": "WIb_xcK6os9i",
        "outputId": "63b9467b-e1bd-481a-d673-3d1798651aa1"
      },
      "execution_count": 47,
      "outputs": [
        {
          "output_type": "stream",
          "name": "stdout",
          "text": [
            "[array(0.01735157, dtype=float32), array(0.0173515, dtype=float32), array(0.01735142, dtype=float32), array(0.01735134, dtype=float32), array(0.01735126, dtype=float32), array(0.01735118, dtype=float32), array(0.01735111, dtype=float32), array(0.01735103, dtype=float32), array(0.01735095, dtype=float32), array(0.01735087, dtype=float32), array(0.0173508, dtype=float32), array(0.01735072, dtype=float32), array(0.01735064, dtype=float32), array(0.01735056, dtype=float32), array(0.01735048, dtype=float32), array(0.01735041, dtype=float32), array(0.01735033, dtype=float32), array(0.01735025, dtype=float32), array(0.01735018, dtype=float32), array(0.0173501, dtype=float32), array(0.01735002, dtype=float32), array(0.01734995, dtype=float32), array(0.01734987, dtype=float32), array(0.01734979, dtype=float32), array(0.01734971, dtype=float32), array(0.01734963, dtype=float32), array(0.01734956, dtype=float32), array(0.01734948, dtype=float32), array(0.01734941, dtype=float32), array(0.01734933, dtype=float32), array(0.01734925, dtype=float32), array(0.01734918, dtype=float32), array(0.0173491, dtype=float32), array(0.01734902, dtype=float32), array(0.01734895, dtype=float32), array(0.01734887, dtype=float32), array(0.01734879, dtype=float32), array(0.01734872, dtype=float32), array(0.01734864, dtype=float32), array(0.01734856, dtype=float32), array(0.01734849, dtype=float32), array(0.01734841, dtype=float32), array(0.01734834, dtype=float32), array(0.01734826, dtype=float32), array(0.01734818, dtype=float32), array(0.01734811, dtype=float32), array(0.01734803, dtype=float32), array(0.01734795, dtype=float32), array(0.01734788, dtype=float32), array(0.0173478, dtype=float32), array(0.01734773, dtype=float32), array(0.01734765, dtype=float32), array(0.01734757, dtype=float32), array(0.0173475, dtype=float32), array(0.01734742, dtype=float32), array(0.01734735, dtype=float32), array(0.01734727, dtype=float32), array(0.01734719, dtype=float32), array(0.01734712, dtype=float32), array(0.01734704, dtype=float32), array(0.01734697, dtype=float32), array(0.01734689, dtype=float32), array(0.01734681, dtype=float32), array(0.01734674, dtype=float32), array(0.01734667, dtype=float32), array(0.01734659, dtype=float32), array(0.01734651, dtype=float32), array(0.01734644, dtype=float32), array(0.01734636, dtype=float32), array(0.01734629, dtype=float32), array(0.01734621, dtype=float32), array(0.01734614, dtype=float32), array(0.01734606, dtype=float32), array(0.01734598, dtype=float32), array(0.01734591, dtype=float32), array(0.01734584, dtype=float32), array(0.01734576, dtype=float32), array(0.01734568, dtype=float32), array(0.01734561, dtype=float32), array(0.01734553, dtype=float32), array(0.01734546, dtype=float32), array(0.01734539, dtype=float32), array(0.01734531, dtype=float32), array(0.01734523, dtype=float32), array(0.01734516, dtype=float32), array(0.01734508, dtype=float32), array(0.01734501, dtype=float32), array(0.01734494, dtype=float32), array(0.01734486, dtype=float32), array(0.01734479, dtype=float32), array(0.01734471, dtype=float32), array(0.01734464, dtype=float32), array(0.01734456, dtype=float32), array(0.01734449, dtype=float32), array(0.01734441, dtype=float32), array(0.01734434, dtype=float32), array(0.01734427, dtype=float32), array(0.01734419, dtype=float32), array(0.01734412, dtype=float32), array(0.01734404, dtype=float32), array(0.01734397, dtype=float32), array(0.01734389, dtype=float32), array(0.01734382, dtype=float32), array(0.01734375, dtype=float32), array(0.01734367, dtype=float32), array(0.0173436, dtype=float32), array(0.01734352, dtype=float32), array(0.01734345, dtype=float32), array(0.01734338, dtype=float32), array(0.0173433, dtype=float32), array(0.01734323, dtype=float32), array(0.01734315, dtype=float32), array(0.01734308, dtype=float32), array(0.01734301, dtype=float32), array(0.01734293, dtype=float32), array(0.01734286, dtype=float32), array(0.01734278, dtype=float32), array(0.01734271, dtype=float32), array(0.01734264, dtype=float32), array(0.01734256, dtype=float32), array(0.01734249, dtype=float32), array(0.01734242, dtype=float32), array(0.01734234, dtype=float32), array(0.01734227, dtype=float32), array(0.01734219, dtype=float32), array(0.01734212, dtype=float32), array(0.01734205, dtype=float32), array(0.01734198, dtype=float32), array(0.0173419, dtype=float32), array(0.01734183, dtype=float32), array(0.01734176, dtype=float32), array(0.01734168, dtype=float32), array(0.01734161, dtype=float32), array(0.01734154, dtype=float32), array(0.01734146, dtype=float32), array(0.01734139, dtype=float32), array(0.01734132, dtype=float32), array(0.01734124, dtype=float32), array(0.01734117, dtype=float32), array(0.0173411, dtype=float32), array(0.01734103, dtype=float32), array(0.01734095, dtype=float32), array(0.01734088, dtype=float32), array(0.01734081, dtype=float32), array(0.01734073, dtype=float32), array(0.01734066, dtype=float32), array(0.01734059, dtype=float32), array(0.01734052, dtype=float32), array(0.01734044, dtype=float32), array(0.01734037, dtype=float32), array(0.0173403, dtype=float32), array(0.01734023, dtype=float32), array(0.01734015, dtype=float32), array(0.01734008, dtype=float32), array(0.01734001, dtype=float32), array(0.01733994, dtype=float32), array(0.01733986, dtype=float32), array(0.01733979, dtype=float32), array(0.01733972, dtype=float32), array(0.01733964, dtype=float32), array(0.01733957, dtype=float32), array(0.0173395, dtype=float32), array(0.01733943, dtype=float32), array(0.01733936, dtype=float32), array(0.01733929, dtype=float32), array(0.01733921, dtype=float32), array(0.01733914, dtype=float32), array(0.01733907, dtype=float32), array(0.017339, dtype=float32), array(0.01733893, dtype=float32), array(0.01733885, dtype=float32), array(0.01733878, dtype=float32), array(0.01733871, dtype=float32), array(0.01733864, dtype=float32), array(0.01733857, dtype=float32), array(0.0173385, dtype=float32), array(0.01733843, dtype=float32), array(0.01733835, dtype=float32), array(0.01733828, dtype=float32), array(0.01733821, dtype=float32), array(0.01733814, dtype=float32), array(0.01733807, dtype=float32), array(0.01733799, dtype=float32), array(0.01733792, dtype=float32), array(0.01733785, dtype=float32), array(0.01733778, dtype=float32), array(0.01733771, dtype=float32), array(0.01733764, dtype=float32), array(0.01733757, dtype=float32), array(0.0173375, dtype=float32), array(0.01733743, dtype=float32), array(0.01733735, dtype=float32), array(0.01733728, dtype=float32), array(0.01733721, dtype=float32), array(0.01733714, dtype=float32), array(0.01733707, dtype=float32), array(0.017337, dtype=float32), array(0.01733693, dtype=float32), array(0.01733686, dtype=float32), array(0.01733679, dtype=float32), array(0.01733672, dtype=float32), array(0.01733664, dtype=float32), array(0.01733657, dtype=float32), array(0.0173365, dtype=float32), array(0.01733643, dtype=float32), array(0.01733636, dtype=float32), array(0.01733629, dtype=float32), array(0.01733622, dtype=float32), array(0.01733615, dtype=float32), array(0.01733608, dtype=float32), array(0.01733601, dtype=float32), array(0.01733594, dtype=float32), array(0.01733587, dtype=float32), array(0.0173358, dtype=float32), array(0.01733573, dtype=float32), array(0.01733566, dtype=float32), array(0.01733559, dtype=float32), array(0.01733552, dtype=float32), array(0.01733545, dtype=float32), array(0.01733538, dtype=float32), array(0.01733531, dtype=float32), array(0.01733524, dtype=float32), array(0.01733517, dtype=float32), array(0.01733509, dtype=float32), array(0.01733503, dtype=float32), array(0.01733496, dtype=float32), array(0.01733489, dtype=float32), array(0.01733482, dtype=float32), array(0.01733474, dtype=float32), array(0.01733468, dtype=float32), array(0.01733461, dtype=float32), array(0.01733454, dtype=float32), array(0.01733447, dtype=float32), array(0.0173344, dtype=float32), array(0.01733433, dtype=float32), array(0.01733426, dtype=float32), array(0.01733419, dtype=float32), array(0.01733412, dtype=float32), array(0.01733405, dtype=float32), array(0.01733398, dtype=float32), array(0.01733391, dtype=float32), array(0.01733384, dtype=float32), array(0.01733377, dtype=float32), array(0.0173337, dtype=float32), array(0.01733363, dtype=float32), array(0.01733356, dtype=float32), array(0.01733349, dtype=float32), array(0.01733343, dtype=float32), array(0.01733335, dtype=float32), array(0.01733329, dtype=float32), array(0.01733322, dtype=float32), array(0.01733315, dtype=float32), array(0.01733308, dtype=float32), array(0.01733301, dtype=float32), array(0.01733294, dtype=float32), array(0.01733287, dtype=float32), array(0.0173328, dtype=float32), array(0.01733273, dtype=float32), array(0.01733266, dtype=float32), array(0.01733259, dtype=float32), array(0.01733253, dtype=float32), array(0.01733246, dtype=float32), array(0.01733239, dtype=float32), array(0.01733232, dtype=float32), array(0.01733225, dtype=float32), array(0.01733218, dtype=float32), array(0.01733211, dtype=float32), array(0.01733205, dtype=float32), array(0.01733197, dtype=float32), array(0.01733191, dtype=float32), array(0.01733184, dtype=float32), array(0.01733177, dtype=float32), array(0.0173317, dtype=float32), array(0.01733164, dtype=float32), array(0.01733157, dtype=float32), array(0.0173315, dtype=float32), array(0.01733143, dtype=float32), array(0.01733136, dtype=float32), array(0.01733129, dtype=float32), array(0.01733123, dtype=float32), array(0.01733116, dtype=float32), array(0.01733109, dtype=float32), array(0.01733102, dtype=float32), array(0.01733096, dtype=float32), array(0.01733089, dtype=float32), array(0.01733082, dtype=float32), array(0.01733075, dtype=float32), array(0.01733069, dtype=float32), array(0.01733061, dtype=float32), array(0.01733055, dtype=float32), array(0.01733048, dtype=float32), array(0.01733041, dtype=float32), array(0.01733034, dtype=float32), array(0.01733028, dtype=float32), array(0.01733021, dtype=float32), array(0.01733014, dtype=float32), array(0.01733007, dtype=float32), array(0.01733001, dtype=float32), array(0.01732994, dtype=float32), array(0.01732987, dtype=float32), array(0.0173298, dtype=float32), array(0.01732974, dtype=float32), array(0.01732967, dtype=float32), array(0.0173296, dtype=float32), array(0.01732953, dtype=float32), array(0.01732947, dtype=float32), array(0.0173294, dtype=float32), array(0.01732933, dtype=float32), array(0.01732927, dtype=float32), array(0.0173292, dtype=float32), array(0.01732913, dtype=float32), array(0.01732907, dtype=float32), array(0.017329, dtype=float32), array(0.01732893, dtype=float32), array(0.01732886, dtype=float32), array(0.0173288, dtype=float32), array(0.01732873, dtype=float32), array(0.01732866, dtype=float32), array(0.0173286, dtype=float32), array(0.01732853, dtype=float32), array(0.01732846, dtype=float32), array(0.0173284, dtype=float32), array(0.01732833, dtype=float32), array(0.01732826, dtype=float32), array(0.0173282, dtype=float32), array(0.01732813, dtype=float32), array(0.01732806, dtype=float32), array(0.01732799, dtype=float32), array(0.01732793, dtype=float32), array(0.01732786, dtype=float32), array(0.0173278, dtype=float32), array(0.01732773, dtype=float32), array(0.01732766, dtype=float32), array(0.0173276, dtype=float32), array(0.01732753, dtype=float32), array(0.01732747, dtype=float32), array(0.0173274, dtype=float32), array(0.01732733, dtype=float32), array(0.01732727, dtype=float32), array(0.0173272, dtype=float32), array(0.01732713, dtype=float32), array(0.01732707, dtype=float32), array(0.017327, dtype=float32), array(0.01732694, dtype=float32), array(0.01732687, dtype=float32), array(0.0173268, dtype=float32), array(0.01732674, dtype=float32), array(0.01732667, dtype=float32), array(0.0173266, dtype=float32), array(0.01732654, dtype=float32), array(0.01732647, dtype=float32), array(0.01732641, dtype=float32), array(0.01732634, dtype=float32), array(0.01732628, dtype=float32), array(0.01732621, dtype=float32), array(0.01732614, dtype=float32), array(0.01732608, dtype=float32), array(0.01732601, dtype=float32), array(0.01732595, dtype=float32), array(0.01732588, dtype=float32), array(0.01732582, dtype=float32), array(0.01732575, dtype=float32), array(0.01732569, dtype=float32), array(0.01732562, dtype=float32), array(0.01732555, dtype=float32), array(0.01732549, dtype=float32), array(0.01732542, dtype=float32), array(0.01732536, dtype=float32), array(0.01732529, dtype=float32), array(0.01732523, dtype=float32), array(0.01732516, dtype=float32), array(0.0173251, dtype=float32), array(0.01732503, dtype=float32), array(0.01732497, dtype=float32), array(0.0173249, dtype=float32), array(0.01732484, dtype=float32), array(0.01732477, dtype=float32), array(0.0173247, dtype=float32), array(0.01732464, dtype=float32), array(0.01732457, dtype=float32), array(0.01732451, dtype=float32), array(0.01732444, dtype=float32), array(0.01732438, dtype=float32), array(0.01732432, dtype=float32), array(0.01732425, dtype=float32), array(0.01732419, dtype=float32), array(0.01732412, dtype=float32), array(0.01732406, dtype=float32), array(0.01732399, dtype=float32), array(0.01732393, dtype=float32), array(0.01732386, dtype=float32), array(0.0173238, dtype=float32), array(0.01732373, dtype=float32), array(0.01732367, dtype=float32), array(0.0173236, dtype=float32), array(0.01732354, dtype=float32), array(0.01732347, dtype=float32), array(0.01732341, dtype=float32), array(0.01732334, dtype=float32), array(0.01732328, dtype=float32), array(0.01732322, dtype=float32), array(0.01732315, dtype=float32), array(0.01732309, dtype=float32), array(0.01732302, dtype=float32), array(0.01732296, dtype=float32), array(0.0173229, dtype=float32), array(0.01732283, dtype=float32), array(0.01732277, dtype=float32), array(0.0173227, dtype=float32), array(0.01732264, dtype=float32), array(0.01732257, dtype=float32), array(0.01732251, dtype=float32), array(0.01732245, dtype=float32), array(0.01732238, dtype=float32), array(0.01732232, dtype=float32), array(0.01732225, dtype=float32), array(0.01732219, dtype=float32), array(0.01732212, dtype=float32), array(0.01732206, dtype=float32), array(0.017322, dtype=float32), array(0.01732193, dtype=float32), array(0.01732187, dtype=float32), array(0.0173218, dtype=float32), array(0.01732174, dtype=float32), array(0.01732168, dtype=float32), array(0.01732161, dtype=float32), array(0.01732155, dtype=float32), array(0.01732149, dtype=float32), array(0.01732142, dtype=float32), array(0.01732136, dtype=float32), array(0.0173213, dtype=float32), array(0.01732123, dtype=float32), array(0.01732117, dtype=float32), array(0.01732111, dtype=float32), array(0.01732104, dtype=float32), array(0.01732098, dtype=float32), array(0.01732091, dtype=float32), array(0.01732085, dtype=float32), array(0.01732079, dtype=float32), array(0.01732073, dtype=float32), array(0.01732066, dtype=float32), array(0.0173206, dtype=float32), array(0.01732053, dtype=float32), array(0.01732047, dtype=float32), array(0.01732041, dtype=float32), array(0.01732034, dtype=float32), array(0.01732028, dtype=float32), array(0.01732022, dtype=float32), array(0.01732016, dtype=float32), array(0.01732009, dtype=float32), array(0.01732003, dtype=float32), array(0.01731997, dtype=float32), array(0.0173199, dtype=float32), array(0.01731984, dtype=float32), array(0.01731978, dtype=float32), array(0.01731972, dtype=float32), array(0.01731965, dtype=float32), array(0.01731959, dtype=float32), array(0.01731953, dtype=float32), array(0.01731946, dtype=float32), array(0.0173194, dtype=float32), array(0.01731934, dtype=float32), array(0.01731928, dtype=float32), array(0.01731921, dtype=float32), array(0.01731915, dtype=float32), array(0.01731909, dtype=float32), array(0.01731902, dtype=float32), array(0.01731896, dtype=float32), array(0.0173189, dtype=float32), array(0.01731884, dtype=float32), array(0.01731878, dtype=float32), array(0.01731871, dtype=float32), array(0.01731865, dtype=float32), array(0.01731859, dtype=float32), array(0.01731853, dtype=float32), array(0.01731846, dtype=float32), array(0.0173184, dtype=float32), array(0.01731834, dtype=float32), array(0.01731828, dtype=float32), array(0.01731821, dtype=float32), array(0.01731815, dtype=float32), array(0.01731809, dtype=float32), array(0.01731803, dtype=float32), array(0.01731797, dtype=float32), array(0.0173179, dtype=float32), array(0.01731784, dtype=float32), array(0.01731778, dtype=float32), array(0.01731772, dtype=float32), array(0.01731766, dtype=float32), array(0.01731759, dtype=float32), array(0.01731753, dtype=float32), array(0.01731747, dtype=float32), array(0.01731741, dtype=float32), array(0.01731735, dtype=float32), array(0.01731729, dtype=float32), array(0.01731722, dtype=float32), array(0.01731716, dtype=float32), array(0.0173171, dtype=float32), array(0.01731704, dtype=float32), array(0.01731698, dtype=float32), array(0.01731691, dtype=float32), array(0.01731685, dtype=float32), array(0.01731679, dtype=float32), array(0.01731673, dtype=float32), array(0.01731667, dtype=float32), array(0.01731661, dtype=float32), array(0.01731654, dtype=float32), array(0.01731648, dtype=float32), array(0.01731642, dtype=float32), array(0.01731636, dtype=float32), array(0.0173163, dtype=float32), array(0.01731624, dtype=float32), array(0.01731618, dtype=float32), array(0.01731611, dtype=float32), array(0.01731605, dtype=float32), array(0.01731599, dtype=float32), array(0.01731593, dtype=float32), array(0.01731587, dtype=float32), array(0.01731581, dtype=float32), array(0.01731575, dtype=float32), array(0.01731569, dtype=float32), array(0.01731563, dtype=float32), array(0.01731557, dtype=float32), array(0.0173155, dtype=float32), array(0.01731544, dtype=float32), array(0.01731538, dtype=float32), array(0.01731532, dtype=float32), array(0.01731526, dtype=float32), array(0.0173152, dtype=float32), array(0.01731514, dtype=float32), array(0.01731508, dtype=float32), array(0.01731502, dtype=float32), array(0.01731496, dtype=float32), array(0.01731489, dtype=float32), array(0.01731483, dtype=float32), array(0.01731477, dtype=float32), array(0.01731471, dtype=float32), array(0.01731465, dtype=float32), array(0.01731459, dtype=float32), array(0.01731453, dtype=float32), array(0.01731447, dtype=float32), array(0.01731441, dtype=float32), array(0.01731435, dtype=float32), array(0.01731429, dtype=float32), array(0.01731423, dtype=float32), array(0.01731417, dtype=float32), array(0.01731411, dtype=float32), array(0.01731405, dtype=float32), array(0.01731399, dtype=float32), array(0.01731393, dtype=float32), array(0.01731387, dtype=float32), array(0.01731381, dtype=float32), array(0.01731374, dtype=float32), array(0.01731369, dtype=float32), array(0.01731362, dtype=float32), array(0.01731357, dtype=float32), array(0.0173135, dtype=float32), array(0.01731344, dtype=float32), array(0.01731339, dtype=float32), array(0.01731332, dtype=float32), array(0.01731326, dtype=float32), array(0.0173132, dtype=float32), array(0.01731314, dtype=float32), array(0.01731308, dtype=float32), array(0.01731302, dtype=float32), array(0.01731296, dtype=float32), array(0.0173129, dtype=float32), array(0.01731284, dtype=float32), array(0.01731278, dtype=float32), array(0.01731272, dtype=float32), array(0.01731266, dtype=float32), array(0.0173126, dtype=float32), array(0.01731255, dtype=float32), array(0.01731249, dtype=float32), array(0.01731243, dtype=float32), array(0.01731237, dtype=float32), array(0.01731231, dtype=float32), array(0.01731225, dtype=float32), array(0.01731219, dtype=float32), array(0.01731213, dtype=float32), array(0.01731207, dtype=float32), array(0.01731201, dtype=float32), array(0.01731195, dtype=float32), array(0.01731189, dtype=float32), array(0.01731183, dtype=float32), array(0.01731177, dtype=float32), array(0.01731171, dtype=float32), array(0.01731165, dtype=float32), array(0.01731159, dtype=float32), array(0.01731153, dtype=float32), array(0.01731147, dtype=float32), array(0.01731141, dtype=float32), array(0.01731136, dtype=float32), array(0.0173113, dtype=float32), array(0.01731124, dtype=float32), array(0.01731118, dtype=float32), array(0.01731112, dtype=float32), array(0.01731106, dtype=float32), array(0.017311, dtype=float32), array(0.01731094, dtype=float32), array(0.01731088, dtype=float32), array(0.01731082, dtype=float32), array(0.01731076, dtype=float32), array(0.01731071, dtype=float32), array(0.01731065, dtype=float32), array(0.01731059, dtype=float32), array(0.01731053, dtype=float32), array(0.01731047, dtype=float32), array(0.01731041, dtype=float32), array(0.01731035, dtype=float32), array(0.01731029, dtype=float32), array(0.01731023, dtype=float32), array(0.01731018, dtype=float32), array(0.01731012, dtype=float32), array(0.01731006, dtype=float32), array(0.01731, dtype=float32), array(0.01730994, dtype=float32), array(0.01730988, dtype=float32), array(0.01730982, dtype=float32), array(0.01730977, dtype=float32), array(0.01730971, dtype=float32), array(0.01730965, dtype=float32), array(0.01730959, dtype=float32), array(0.01730953, dtype=float32), array(0.01730947, dtype=float32), array(0.01730941, dtype=float32), array(0.01730936, dtype=float32), array(0.0173093, dtype=float32), array(0.01730924, dtype=float32), array(0.01730918, dtype=float32), array(0.01730912, dtype=float32), array(0.01730906, dtype=float32), array(0.01730901, dtype=float32), array(0.01730895, dtype=float32), array(0.01730889, dtype=float32), array(0.01730883, dtype=float32), array(0.01730877, dtype=float32), array(0.01730871, dtype=float32), array(0.01730866, dtype=float32), array(0.0173086, dtype=float32), array(0.01730854, dtype=float32), array(0.01730848, dtype=float32), array(0.01730842, dtype=float32), array(0.01730837, dtype=float32), array(0.01730831, dtype=float32), array(0.01730825, dtype=float32), array(0.01730819, dtype=float32), array(0.01730813, dtype=float32), array(0.01730808, dtype=float32), array(0.01730802, dtype=float32), array(0.01730796, dtype=float32), array(0.0173079, dtype=float32), array(0.01730785, dtype=float32), array(0.01730779, dtype=float32), array(0.01730773, dtype=float32), array(0.01730767, dtype=float32), array(0.01730762, dtype=float32), array(0.01730756, dtype=float32), array(0.0173075, dtype=float32), array(0.01730744, dtype=float32), array(0.01730739, dtype=float32), array(0.01730733, dtype=float32), array(0.01730727, dtype=float32), array(0.01730721, dtype=float32), array(0.01730715, dtype=float32), array(0.0173071, dtype=float32), array(0.01730704, dtype=float32), array(0.01730698, dtype=float32), array(0.01730692, dtype=float32), array(0.01730687, dtype=float32), array(0.01730681, dtype=float32), array(0.01730675, dtype=float32), array(0.0173067, dtype=float32), array(0.01730664, dtype=float32), array(0.01730658, dtype=float32), array(0.01730653, dtype=float32), array(0.01730647, dtype=float32), array(0.01730641, dtype=float32), array(0.01730635, dtype=float32), array(0.0173063, dtype=float32), array(0.01730624, dtype=float32), array(0.01730618, dtype=float32), array(0.01730612, dtype=float32), array(0.01730607, dtype=float32), array(0.01730601, dtype=float32), array(0.01730596, dtype=float32), array(0.0173059, dtype=float32), array(0.01730584, dtype=float32), array(0.01730578, dtype=float32), array(0.01730573, dtype=float32), array(0.01730567, dtype=float32), array(0.01730561, dtype=float32), array(0.01730556, dtype=float32), array(0.0173055, dtype=float32), array(0.01730544, dtype=float32), array(0.01730539, dtype=float32), array(0.01730533, dtype=float32), array(0.01730527, dtype=float32), array(0.01730522, dtype=float32), array(0.01730516, dtype=float32), array(0.0173051, dtype=float32), array(0.01730505, dtype=float32), array(0.01730499, dtype=float32), array(0.01730493, dtype=float32), array(0.01730488, dtype=float32), array(0.01730482, dtype=float32), array(0.01730477, dtype=float32), array(0.01730471, dtype=float32), array(0.01730465, dtype=float32), array(0.0173046, dtype=float32), array(0.01730454, dtype=float32), array(0.01730448, dtype=float32), array(0.01730443, dtype=float32), array(0.01730437, dtype=float32), array(0.01730431, dtype=float32), array(0.01730426, dtype=float32), array(0.0173042, dtype=float32), array(0.01730414, dtype=float32), array(0.01730409, dtype=float32), array(0.01730403, dtype=float32), array(0.01730398, dtype=float32), array(0.01730392, dtype=float32), array(0.01730386, dtype=float32), array(0.01730381, dtype=float32), array(0.01730375, dtype=float32), array(0.0173037, dtype=float32), array(0.01730364, dtype=float32), array(0.01730358, dtype=float32), array(0.01730353, dtype=float32), array(0.01730347, dtype=float32), array(0.01730342, dtype=float32), array(0.01730336, dtype=float32), array(0.0173033, dtype=float32), array(0.01730325, dtype=float32), array(0.01730319, dtype=float32), array(0.01730314, dtype=float32), array(0.01730308, dtype=float32), array(0.01730303, dtype=float32), array(0.01730297, dtype=float32), array(0.01730292, dtype=float32), array(0.01730286, dtype=float32), array(0.0173028, dtype=float32), array(0.01730275, dtype=float32), array(0.01730269, dtype=float32), array(0.01730264, dtype=float32), array(0.01730258, dtype=float32), array(0.01730252, dtype=float32), array(0.01730247, dtype=float32), array(0.01730241, dtype=float32), array(0.01730236, dtype=float32), array(0.0173023, dtype=float32), array(0.01730225, dtype=float32), array(0.01730219, dtype=float32), array(0.01730214, dtype=float32), array(0.01730208, dtype=float32), array(0.01730203, dtype=float32), array(0.01730197, dtype=float32), array(0.01730192, dtype=float32), array(0.01730186, dtype=float32), array(0.01730181, dtype=float32), array(0.01730175, dtype=float32), array(0.01730169, dtype=float32), array(0.01730164, dtype=float32), array(0.01730158, dtype=float32), array(0.01730153, dtype=float32), array(0.01730147, dtype=float32), array(0.01730142, dtype=float32), array(0.01730136, dtype=float32), array(0.01730131, dtype=float32), array(0.01730125, dtype=float32), array(0.0173012, dtype=float32), array(0.01730114, dtype=float32), array(0.01730109, dtype=float32), array(0.01730103, dtype=float32), array(0.01730098, dtype=float32), array(0.01730092, dtype=float32), array(0.01730087, dtype=float32), array(0.01730081, dtype=float32), array(0.01730076, dtype=float32), array(0.0173007, dtype=float32), array(0.01730065, dtype=float32), array(0.01730059, dtype=float32), array(0.01730054, dtype=float32), array(0.01730048, dtype=float32), array(0.01730043, dtype=float32), array(0.01730038, dtype=float32), array(0.01730032, dtype=float32), array(0.01730027, dtype=float32), array(0.01730021, dtype=float32), array(0.01730016, dtype=float32), array(0.0173001, dtype=float32), array(0.01730005, dtype=float32), array(0.01729999, dtype=float32), array(0.01729994, dtype=float32), array(0.01729988, dtype=float32), array(0.01729983, dtype=float32), array(0.01729978, dtype=float32), array(0.01729972, dtype=float32), array(0.01729967, dtype=float32), array(0.01729961, dtype=float32), array(0.01729956, dtype=float32), array(0.0172995, dtype=float32), array(0.01729945, dtype=float32), array(0.0172994, dtype=float32), array(0.01729934, dtype=float32), array(0.01729929, dtype=float32), array(0.01729923, dtype=float32), array(0.01729918, dtype=float32), array(0.01729912, dtype=float32), array(0.01729907, dtype=float32), array(0.01729902, dtype=float32), array(0.01729896, dtype=float32), array(0.01729891, dtype=float32), array(0.01729885, dtype=float32), array(0.0172988, dtype=float32), array(0.01729875, dtype=float32), array(0.01729869, dtype=float32), array(0.01729864, dtype=float32), array(0.01729858, dtype=float32), array(0.01729853, dtype=float32), array(0.01729848, dtype=float32), array(0.01729842, dtype=float32), array(0.01729837, dtype=float32), array(0.01729832, dtype=float32), array(0.01729826, dtype=float32), array(0.01729821, dtype=float32), array(0.01729815, dtype=float32), array(0.0172981, dtype=float32), array(0.01729805, dtype=float32), array(0.01729799, dtype=float32), array(0.01729794, dtype=float32), array(0.01729788, dtype=float32), array(0.01729783, dtype=float32), array(0.01729778, dtype=float32), array(0.01729773, dtype=float32), array(0.01729767, dtype=float32), array(0.01729762, dtype=float32), array(0.01729756, dtype=float32), array(0.01729751, dtype=float32), array(0.01729746, dtype=float32), array(0.0172974, dtype=float32), array(0.01729735, dtype=float32), array(0.0172973, dtype=float32), array(0.01729724, dtype=float32), array(0.01729719, dtype=float32), array(0.01729714, dtype=float32), array(0.01729709, dtype=float32), array(0.01729703, dtype=float32), array(0.01729698, dtype=float32), array(0.01729693, dtype=float32), array(0.01729687, dtype=float32), array(0.01729682, dtype=float32), array(0.01729676, dtype=float32), array(0.01729671, dtype=float32), array(0.01729666, dtype=float32), array(0.01729661, dtype=float32), array(0.01729655, dtype=float32), array(0.0172965, dtype=float32), array(0.01729645, dtype=float32), array(0.01729639, dtype=float32), array(0.01729634, dtype=float32), array(0.01729629, dtype=float32), array(0.01729623, dtype=float32), array(0.01729618, dtype=float32), array(0.01729613, dtype=float32), array(0.01729608, dtype=float32), array(0.01729602, dtype=float32), array(0.01729597, dtype=float32), array(0.01729592, dtype=float32), array(0.01729587, dtype=float32), array(0.01729581, dtype=float32), array(0.01729576, dtype=float32), array(0.01729571, dtype=float32), array(0.01729565, dtype=float32), array(0.0172956, dtype=float32), array(0.01729555, dtype=float32), array(0.0172955, dtype=float32), array(0.01729544, dtype=float32), array(0.01729539, dtype=float32), array(0.01729534, dtype=float32), array(0.01729528, dtype=float32), array(0.01729523, dtype=float32), array(0.01729518, dtype=float32), array(0.01729513, dtype=float32), array(0.01729507, dtype=float32), array(0.01729502, dtype=float32), array(0.01729497, dtype=float32), array(0.01729491, dtype=float32), array(0.01729486, dtype=float32), array(0.01729481, dtype=float32), array(0.01729476, dtype=float32), array(0.0172947, dtype=float32), array(0.01729465, dtype=float32), array(0.0172946, dtype=float32), array(0.01729454, dtype=float32), array(0.01729449, dtype=float32), array(0.01729444, dtype=float32), array(0.01729438, dtype=float32), array(0.01729433, dtype=float32), array(0.01729428, dtype=float32), array(0.01729423, dtype=float32), array(0.01729417, dtype=float32), array(0.01729412, dtype=float32), array(0.01729407, dtype=float32), array(0.01729402, dtype=float32), array(0.01729396, dtype=float32), array(0.01729391, dtype=float32), array(0.01729386, dtype=float32), array(0.01729381, dtype=float32), array(0.01729375, dtype=float32), array(0.0172937, dtype=float32), array(0.01729365, dtype=float32), array(0.0172936, dtype=float32), array(0.01729354, dtype=float32), array(0.01729349, dtype=float32), array(0.01729344, dtype=float32), array(0.01729339, dtype=float32), array(0.01729334, dtype=float32), array(0.01729328, dtype=float32), array(0.01729323, dtype=float32), array(0.01729318, dtype=float32), array(0.01729313, dtype=float32), array(0.01729307, dtype=float32), array(0.01729302, dtype=float32), array(0.01729297, dtype=float32), array(0.01729292, dtype=float32), array(0.01729287, dtype=float32), array(0.01729282, dtype=float32), array(0.01729276, dtype=float32), array(0.01729271, dtype=float32), array(0.01729266, dtype=float32), array(0.01729261, dtype=float32), array(0.01729256, dtype=float32), array(0.01729251, dtype=float32), array(0.01729245, dtype=float32), array(0.0172924, dtype=float32), array(0.01729235, dtype=float32), array(0.0172923, dtype=float32), array(0.01729225, dtype=float32), array(0.0172922, dtype=float32), array(0.01729215, dtype=float32), array(0.0172921, dtype=float32), array(0.01729205, dtype=float32), array(0.01729199, dtype=float32), array(0.01729194, dtype=float32), array(0.01729189, dtype=float32), array(0.01729184, dtype=float32), array(0.01729179, dtype=float32), array(0.01729174, dtype=float32), array(0.01729169, dtype=float32), array(0.01729164, dtype=float32), array(0.01729158, dtype=float32), array(0.01729153, dtype=float32), array(0.01729148, dtype=float32), array(0.01729143, dtype=float32), array(0.01729138, dtype=float32), array(0.01729133, dtype=float32), array(0.01729128, dtype=float32), array(0.01729123, dtype=float32), array(0.01729118, dtype=float32), array(0.01729113, dtype=float32), array(0.01729108, dtype=float32), array(0.01729102, dtype=float32), array(0.01729098, dtype=float32), array(0.01729092, dtype=float32), array(0.01729087, dtype=float32), array(0.01729082, dtype=float32), array(0.01729077, dtype=float32), array(0.01729072, dtype=float32), array(0.01729067, dtype=float32), array(0.01729062, dtype=float32), array(0.01729057, dtype=float32), array(0.01729052, dtype=float32), array(0.01729047, dtype=float32), array(0.01729042, dtype=float32), array(0.01729037, dtype=float32), array(0.01729032, dtype=float32), array(0.01729027, dtype=float32), array(0.01729022, dtype=float32), array(0.01729016, dtype=float32), array(0.01729011, dtype=float32), array(0.01729006, dtype=float32), array(0.01729001, dtype=float32), array(0.01728996, dtype=float32), array(0.01728991, dtype=float32), array(0.01728986, dtype=float32), array(0.01728981, dtype=float32), array(0.01728976, dtype=float32), array(0.01728971, dtype=float32), array(0.01728966, dtype=float32), array(0.01728961, dtype=float32), array(0.01728956, dtype=float32), array(0.01728951, dtype=float32), array(0.01728946, dtype=float32), array(0.01728941, dtype=float32), array(0.01728936, dtype=float32), array(0.01728931, dtype=float32), array(0.01728926, dtype=float32), array(0.01728921, dtype=float32), array(0.01728916, dtype=float32)]\n"
          ]
        }
      ]
    },
    {
      "cell_type": "markdown",
      "source": [
        "to evaluate with unseen data set which is considred as test set"
      ],
      "metadata": {
        "id": "HLOnj9E_O7Qv"
      }
    },
    {
      "cell_type": "markdown",
      "source": [
        "I recieved an error: means that you're trying to convert a PyTorch tensor (which has requires_grad=True) directly to a NumPy array. PyTorch doesn't allow this because tensors with requires_grad=True track gradients for backpropagation.\n",
        "You need to detach the tensor from the computation graph before converting it to a NumPy array."
      ],
      "metadata": {
        "id": "Hq8Bgga6Yplo"
      }
    },
    {
      "cell_type": "code",
      "source": [
        "y_preds = model_0(x_test_s_ten).detach().numpy()\n",
        "plt.scatter(y_preds,y_test_s_ten, color='red', linestyle='-', marker='o')"
      ],
      "metadata": {
        "colab": {
          "base_uri": "https://localhost:8080/",
          "height": 447
        },
        "id": "MOVQZYzbTBFw",
        "outputId": "e7654e8d-ac0c-421e-bf35-4c8d0960ebab"
      },
      "execution_count": 37,
      "outputs": [
        {
          "output_type": "execute_result",
          "data": {
            "text/plain": [
              "<matplotlib.collections.PathCollection at 0x7850f23f6390>"
            ]
          },
          "metadata": {},
          "execution_count": 37
        },
        {
          "output_type": "display_data",
          "data": {
            "text/plain": [
              "<Figure size 640x480 with 1 Axes>"
            ],
            "image/png": "[encoded data removed]"
          },
          "metadata": {}
        }
      ]
    },
    {
      "cell_type": "code",
      "source": [],
      "metadata": {
        "id": "34eZsbycUJ1O"
      },
      "execution_count": null,
      "outputs": []
    }
  ],
  "metadata": {
    "colab": {
      "provenance": [],
      "authorship_tag": "ABX9TyPvp77mP8KVYNq1976owdVB",
      "include_colab_link": true
    },
    "kernelspec": {
      "display_name": "Python 3",
      "name": "python3"
    },
    "language_info": {
      "name": "python"
    }
  },
  "nbformat": 4,
  "nbformat_minor": 0
}