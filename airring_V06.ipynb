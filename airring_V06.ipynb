{
  "cells": [
    {
      "cell_type": "markdown",
      "metadata": {
        "id": "view-in-github",
        "colab_type": "text"
      },
      "source": [
        "<a href=\"https://colab.research.google.com/github/Baran-7/ari_ring/blob/main/airring_V06.ipynb\" target=\"_parent\"><img src=\"https://colab.research.google.com/assets/colab-badge.svg\" alt=\"Open In Colab\"/></a>"
      ]
    },
    {
      "cell_type": "markdown",
      "metadata": {
        "id": "YOnW_ywrIEz5"
      },
      "source": [
        "the code to optimize airrinig and extracting the formula  \n",
        "230 total data"
      ]
    },
    {
      "cell_type": "code",
      "execution_count": 117,
      "metadata": {
        "colab": {
          "base_uri": "https://localhost:8080/"
        },
        "id": "l4pMon1MEZeb",
        "outputId": "d7ed2282-e9bf-4f83-c483-9adf77af328f"
      },
      "outputs": [
        {
          "output_type": "stream",
          "name": "stdout",
          "text": [
            "Requirement already satisfied: openpyxl in /usr/local/lib/python3.11/dist-packages (3.1.5)\n",
            "Requirement already satisfied: et-xmlfile in /usr/local/lib/python3.11/dist-packages (from openpyxl) (2.0.0)\n",
            "Requirement already satisfied: pytorch-lightning in /usr/local/lib/python3.11/dist-packages (2.5.0.post0)\n",
            "Requirement already satisfied: torch>=2.1.0 in /usr/local/lib/python3.11/dist-packages (from pytorch-lightning) (2.5.1+cu124)\n",
            "Requirement already satisfied: tqdm>=4.57.0 in /usr/local/lib/python3.11/dist-packages (from pytorch-lightning) (4.67.1)\n",
            "Requirement already satisfied: PyYAML>=5.4 in /usr/local/lib/python3.11/dist-packages (from pytorch-lightning) (6.0.2)\n",
            "Requirement already satisfied: fsspec>=2022.5.0 in /usr/local/lib/python3.11/dist-packages (from fsspec[http]>=2022.5.0->pytorch-lightning) (2024.10.0)\n",
            "Requirement already satisfied: torchmetrics>=0.7.0 in /usr/local/lib/python3.11/dist-packages (from pytorch-lightning) (1.6.1)\n",
            "Requirement already satisfied: packaging>=20.0 in /usr/local/lib/python3.11/dist-packages (from pytorch-lightning) (24.2)\n",
            "Requirement already satisfied: typing-extensions>=4.4.0 in /usr/local/lib/python3.11/dist-packages (from pytorch-lightning) (4.12.2)\n",
            "Requirement already satisfied: lightning-utilities>=0.10.0 in /usr/local/lib/python3.11/dist-packages (from pytorch-lightning) (0.12.0)\n",
            "Requirement already satisfied: aiohttp!=4.0.0a0,!=4.0.0a1 in /usr/local/lib/python3.11/dist-packages (from fsspec[http]>=2022.5.0->pytorch-lightning) (3.11.11)\n",
            "Requirement already satisfied: setuptools in /usr/local/lib/python3.11/dist-packages (from lightning-utilities>=0.10.0->pytorch-lightning) (75.1.0)\n",
            "Requirement already satisfied: filelock in /usr/local/lib/python3.11/dist-packages (from torch>=2.1.0->pytorch-lightning) (3.17.0)\n",
            "Requirement already satisfied: networkx in /usr/local/lib/python3.11/dist-packages (from torch>=2.1.0->pytorch-lightning) (3.4.2)\n",
            "Requirement already satisfied: jinja2 in /usr/local/lib/python3.11/dist-packages (from torch>=2.1.0->pytorch-lightning) (3.1.5)\n",
            "Requirement already satisfied: nvidia-cuda-nvrtc-cu12==12.4.127 in /usr/local/lib/python3.11/dist-packages (from torch>=2.1.0->pytorch-lightning) (12.4.127)\n",
            "Requirement already satisfied: nvidia-cuda-runtime-cu12==12.4.127 in /usr/local/lib/python3.11/dist-packages (from torch>=2.1.0->pytorch-lightning) (12.4.127)\n",
            "Requirement already satisfied: nvidia-cuda-cupti-cu12==12.4.127 in /usr/local/lib/python3.11/dist-packages (from torch>=2.1.0->pytorch-lightning) (12.4.127)\n",
            "Requirement already satisfied: nvidia-cudnn-cu12==9.1.0.70 in /usr/local/lib/python3.11/dist-packages (from torch>=2.1.0->pytorch-lightning) (9.1.0.70)\n",
            "Requirement already satisfied: nvidia-cublas-cu12==12.4.5.8 in /usr/local/lib/python3.11/dist-packages (from torch>=2.1.0->pytorch-lightning) (12.4.5.8)\n",
            "Requirement already satisfied: nvidia-cufft-cu12==11.2.1.3 in /usr/local/lib/python3.11/dist-packages (from torch>=2.1.0->pytorch-lightning) (11.2.1.3)\n",
            "Requirement already satisfied: nvidia-curand-cu12==10.3.5.147 in /usr/local/lib/python3.11/dist-packages (from torch>=2.1.0->pytorch-lightning) (10.3.5.147)\n",
            "Requirement already satisfied: nvidia-cusolver-cu12==11.6.1.9 in /usr/local/lib/python3.11/dist-packages (from torch>=2.1.0->pytorch-lightning) (11.6.1.9)\n",
            "Requirement already satisfied: nvidia-cusparse-cu12==12.3.1.170 in /usr/local/lib/python3.11/dist-packages (from torch>=2.1.0->pytorch-lightning) (12.3.1.170)\n",
            "Requirement already satisfied: nvidia-nccl-cu12==2.21.5 in /usr/local/lib/python3.11/dist-packages (from torch>=2.1.0->pytorch-lightning) (2.21.5)\n",
            "Requirement already satisfied: nvidia-nvtx-cu12==12.4.127 in /usr/local/lib/python3.11/dist-packages (from torch>=2.1.0->pytorch-lightning) (12.4.127)\n",
            "Requirement already satisfied: nvidia-nvjitlink-cu12==12.4.127 in /usr/local/lib/python3.11/dist-packages (from torch>=2.1.0->pytorch-lightning) (12.4.127)\n",
            "Requirement already satisfied: triton==3.1.0 in /usr/local/lib/python3.11/dist-packages (from torch>=2.1.0->pytorch-lightning) (3.1.0)\n",
            "Requirement already satisfied: sympy==1.13.1 in /usr/local/lib/python3.11/dist-packages (from torch>=2.1.0->pytorch-lightning) (1.13.1)\n",
            "Requirement already satisfied: mpmath<1.4,>=1.1.0 in /usr/local/lib/python3.11/dist-packages (from sympy==1.13.1->torch>=2.1.0->pytorch-lightning) (1.3.0)\n",
            "Requirement already satisfied: numpy>1.20.0 in /usr/local/lib/python3.11/dist-packages (from torchmetrics>=0.7.0->pytorch-lightning) (1.26.4)\n",
            "Requirement already satisfied: aiohappyeyeballs>=2.3.0 in /usr/local/lib/python3.11/dist-packages (from aiohttp!=4.0.0a0,!=4.0.0a1->fsspec[http]>=2022.5.0->pytorch-lightning) (2.4.4)\n",
            "Requirement already satisfied: aiosignal>=1.1.2 in /usr/local/lib/python3.11/dist-packages (from aiohttp!=4.0.0a0,!=4.0.0a1->fsspec[http]>=2022.5.0->pytorch-lightning) (1.3.2)\n",
            "Requirement already satisfied: attrs>=17.3.0 in /usr/local/lib/python3.11/dist-packages (from aiohttp!=4.0.0a0,!=4.0.0a1->fsspec[http]>=2022.5.0->pytorch-lightning) (25.1.0)\n",
            "Requirement already satisfied: frozenlist>=1.1.1 in /usr/local/lib/python3.11/dist-packages (from aiohttp!=4.0.0a0,!=4.0.0a1->fsspec[http]>=2022.5.0->pytorch-lightning) (1.5.0)\n",
            "Requirement already satisfied: multidict<7.0,>=4.5 in /usr/local/lib/python3.11/dist-packages (from aiohttp!=4.0.0a0,!=4.0.0a1->fsspec[http]>=2022.5.0->pytorch-lightning) (6.1.0)\n",
            "Requirement already satisfied: propcache>=0.2.0 in /usr/local/lib/python3.11/dist-packages (from aiohttp!=4.0.0a0,!=4.0.0a1->fsspec[http]>=2022.5.0->pytorch-lightning) (0.2.1)\n",
            "Requirement already satisfied: yarl<2.0,>=1.17.0 in /usr/local/lib/python3.11/dist-packages (from aiohttp!=4.0.0a0,!=4.0.0a1->fsspec[http]>=2022.5.0->pytorch-lightning) (1.18.3)\n",
            "Requirement already satisfied: MarkupSafe>=2.0 in /usr/local/lib/python3.11/dist-packages (from jinja2->torch>=2.1.0->pytorch-lightning) (3.0.2)\n",
            "Requirement already satisfied: idna>=2.0 in /usr/local/lib/python3.11/dist-packages (from yarl<2.0,>=1.17.0->aiohttp!=4.0.0a0,!=4.0.0a1->fsspec[http]>=2022.5.0->pytorch-lightning) (3.10)\n"
          ]
        }
      ],
      "source": [
        "import pandas as pd\n",
        "import torch\n",
        "from torch import nn\n",
        "!pip install openpyxl\n",
        "import torch.optim as optim\n",
        "import numpy as np\n",
        "import torch.optim as optim\n",
        "!pip install pytorch-lightning\n",
        "import pytorch_lightning as pl\n",
        "from pytorch_lightning.callbacks import EarlyStopping\n",
        "import matplotlib.pyplot as plt"
      ]
    },
    {
      "cell_type": "markdown",
      "metadata": {
        "id": "bBZLDes3ykWu"
      },
      "source": [
        "\n",
        "*   importing data\n"
      ]
    },
    {
      "cell_type": "code",
      "execution_count": 118,
      "metadata": {
        "colab": {
          "base_uri": "https://localhost:8080/"
        },
        "id": "XtEShpxfsD1c",
        "outputId": "c7b58456-548f-4fb9-9312-2307b19d83ed"
      },
      "outputs": [
        {
          "output_type": "stream",
          "name": "stdout",
          "text": [
            "Drive already mounted at /content/drive; to attempt to forcibly remount, call drive.mount(\"/content/drive\", force_remount=True).\n",
            "torch.Size([230, 9])\n"
          ]
        }
      ],
      "source": [
        "#connecting to the one drive and I choosed agree on all the levels\n",
        "from google.colab import drive\n",
        "drive.mount('/content/drive')\n",
        "#importing the exact folder name\n",
        "file_path = \"/content/drive/My Drive/air_ring/export airring data.xlsx\"\n",
        "#checking what is in the directory\n",
        "#import os\n",
        "# Adjust the path to your folder\n",
        "#folder_path = \"/content/drive/My Drive/air_ring\"\n",
        "#print(os.listdir(folder_path))\n",
        "#loading the data\n",
        "#data = pd.read_excel('/content/export airring data.xlsx'): the chat gpt's mistake :)))))\n",
        "data = pd.read_excel('/content/drive/My Drive/air_ring/export airring data.xlsx')\n",
        "ten_raw_data = torch.tensor(data.values, dtype = torch.float32)\n",
        "\n",
        "print(ten_raw_data.shape)"
      ]
    },
    {
      "cell_type": "markdown",
      "metadata": {
        "id": "xoMPz7JbyuXH"
      },
      "source": [
        "\n",
        "\n",
        "*   defining x, y and spliting\n"
      ]
    },
    {
      "cell_type": "code",
      "execution_count": 119,
      "metadata": {
        "colab": {
          "base_uri": "https://localhost:8080/"
        },
        "id": "C7MzJj9mvhZP",
        "outputId": "a45e1e8a-37db-4eaf-813c-90668dcd14df"
      },
      "outputs": [
        {
          "output_type": "stream",
          "name": "stdout",
          "text": [
            "tensor([[120.0000,   5.4000,   9.5000,  45.0000,   1.4000,   2.8000,   8.0000,\n",
            "           6.4000],\n",
            "        [120.0000,   5.4000,   9.5000,  45.0000,   1.4000,   2.9000,   8.0000,\n",
            "           6.4000],\n",
            "        [120.0000,   5.4000,   9.5000,  45.0000,   1.4000,   2.7000,   8.0000,\n",
            "           6.4000],\n",
            "        [120.0000,   5.4000,   9.5000,  45.0000,   1.4000,   3.1000,   8.0000,\n",
            "           6.4000],\n",
            "        [120.0000,   5.4000,   9.5000,  45.0000,   1.4000,   3.2000,   8.0000,\n",
            "           6.4000]]) tensor([356.7520, 356.7110, 356.7620, 356.8780, 356.9080])\n",
            "shape of the input train tensor is: torch.Size([147, 8])\n",
            "shape of output train tensor is: torch.Size([147])\n",
            "shape of input test tensor is: torch.Size([46, 8])\n",
            "shape of output test tensor is: torch.Size([46])\n"
          ]
        }
      ],
      "source": [
        "#setting input and output data\n",
        "x = ten_raw_data[:,:8]\n",
        "y = ten_raw_data[:,8]\n",
        "#y = ten_raw_data[:,8].unsqueeze(1)\n",
        "\n",
        "# View the first five samples\n",
        "print(x[:5], y[:5])\n",
        "\n",
        "#spliting data\n",
        "from sklearn.model_selection import train_test_split\n",
        "x_train_p, x_test, y_train_p, y_test = train_test_split(x,\n",
        "                                                        y,\n",
        "                                                        test_size=0.2, # 20% test, 80% train\n",
        "                                                        random_state=42) # make the random split reproducable\n",
        "\n",
        "#spliting the train data into test and validation\n",
        "x_train, x_valid, y_train, y_valid = train_test_split(x_train_p,\n",
        "                                                                y_train_p,\n",
        "                                                                test_size=0.2, # 20% validation, 80% train\n",
        "                                                                random_state=42) # make the random split reproducable\n",
        "\n",
        "#shape checking\n",
        "print(f\"shape of the input train tensor is: {x_train.shape}\\nshape of output train tensor is: {y_train.shape}\\nshape of input test tensor is: {x_test.shape}\\nshape of output test tensor is: {y_test.shape}\")\n",
        "#print(y[:5])"
      ]
    },
    {
      "cell_type": "markdown",
      "metadata": {
        "id": "c1ghxTddjRHW"
      },
      "source": [
        "now we want to scale the data using min max scalar in skitlearn"
      ]
    },
    {
      "cell_type": "code",
      "execution_count": 120,
      "metadata": {
        "colab": {
          "base_uri": "https://localhost:8080/"
        },
        "id": "D1fKnvpIjeBc",
        "outputId": "8a460b51-3fe7-4e79-f933-85305e1991b3"
      },
      "outputs": [
        {
          "output_type": "stream",
          "name": "stdout",
          "text": [
            "shape of the input train tensor is: torch.Size([147, 8])\n",
            "shape of output train tensor is: torch.Size([147, 1])\n",
            "shape of input test tensor is: torch.Size([46, 8])\n",
            "shape of output test tensor is: torch.Size([46, 1])\n",
            "shape of input valida tensor is: torch.Size([37, 8])\n",
            "shape of oiutput valid tensor is: torch.Size([37, 1])\n"
          ]
        }
      ],
      "source": [
        "from sklearn.preprocessing import MinMaxScaler\n",
        "\n",
        "#x scale\n",
        "scaler = MinMaxScaler()\n",
        "x_train_s = scaler.fit_transform(x_train)\n",
        "x_valid_s = scaler.transform(x_valid)\n",
        "x_test_s = scaler.transform(x_test)\n",
        "\n",
        "x_train_s_ten = torch.tensor(x_train_s, dtype = torch.float32)\n",
        "x_test_s_ten = torch.tensor(x_test_s, dtype = torch.float32)\n",
        "x_valid_s_ten = torch.tensor(x_valid_s, dtype = torch.float32)\n",
        "\n",
        "#y scale\n",
        "y_scaler = MinMaxScaler()\n",
        "y_train_s = y_scaler.fit_transform(y_train.reshape(-1, 1))\n",
        "y_valid_s = y_scaler.transform(y_valid.reshape(-1, 1))\n",
        "y_test_s = y_scaler.transform(y_test.reshape(-1, 1))\n",
        "\n",
        "y_train_s_ten = torch.tensor(y_train_s, dtype = torch.float32)\n",
        "y_test_s_ten = torch.tensor(y_test_s, dtype = torch.float32)\n",
        "y_valid_s_ten = torch.tensor(y_valid_s, dtype = torch.float32)\n",
        "\n",
        "#shape checking\n",
        "print(f\"shape of the input train tensor is: {x_train_s_ten.shape}\\nshape of output train tensor is: {y_train_s_ten.shape}\"\n",
        "      f\"\\nshape of input test tensor is: {x_test_s_ten.shape}\\nshape of output test tensor is: {y_test_s_ten.shape}\"\n",
        "      f\"\\nshape of input valida tensor is: {x_valid_s_ten.shape}\\nshape of oiutput valid tensor is: {y_valid_s_ten.shape}\")\n"
      ]
    },
    {
      "cell_type": "code",
      "execution_count": 121,
      "metadata": {
        "colab": {
          "base_uri": "https://localhost:8080/",
          "height": 35
        },
        "id": "NQiZyflmJbu1",
        "outputId": "d430630e-21a5-4d87-ef0b-5179cf0c0c22"
      },
      "outputs": [
        {
          "output_type": "execute_result",
          "data": {
            "text/plain": [
              "'cpu'"
            ],
            "application/vnd.google.colaboratory.intrinsic+json": {
              "type": "string"
            }
          },
          "metadata": {},
          "execution_count": 121
        }
      ],
      "source": [
        "# Make device agnostic code\n",
        "device = \"cuda\" if torch.cuda.is_available() else \"cpu\"\n",
        "device"
      ]
    },
    {
      "cell_type": "markdown",
      "metadata": {
        "id": "zSESA8Y516Kw"
      },
      "source": [
        "\n",
        "\n",
        "*   creating the model\n"
      ]
    },
    {
      "cell_type": "code",
      "execution_count": 122,
      "metadata": {
        "id": "nz76pU19NwU0"
      },
      "outputs": [],
      "source": [
        "#self.activation_1 = nn.ReLU()  # ReLU after layer_1\n",
        "#self.activation_2 = nn.Sigmoid()  # Sigmoid after layer_2\n",
        "\n",
        "      #def forward(self, x_train):\n",
        "        # Apply layer_1 followed by ReLU activation\n",
        "       # x = self.activation_1(self.layer_1(x_train))\n",
        "\n",
        "        # Apply layer_2 followed by Sigmoid activation\n",
        "        #x = self.activation_2(self.layer_2(x))\n",
        "\n",
        "        # Apply layer_3 (no activation function here)\n",
        "        #return self.layer_3(x)"
      ]
    },
    {
      "cell_type": "code",
      "execution_count": 123,
      "metadata": {
        "colab": {
          "base_uri": "https://localhost:8080/"
        },
        "id": "YgkVIV9PNWL0",
        "outputId": "03a12061-326f-426e-9e2d-15f7d6a0d883"
      },
      "outputs": [
        {
          "output_type": "execute_result",
          "data": {
            "text/plain": [
              "nonlinearregression(\n",
              "  (layer_1): Linear(in_features=8, out_features=10, bias=True)\n",
              "  (layer_2): Linear(in_features=10, out_features=5, bias=True)\n",
              "  (layer_3): Linear(in_features=5, out_features=1, bias=True)\n",
              ")"
            ]
          },
          "metadata": {},
          "execution_count": 123
        }
      ],
      "source": [
        "#nonlinear regression\n",
        "\n",
        "from torch import nn\n",
        "class nonlinearregression(nn.Module):\n",
        "  def __init__(self):\n",
        "    super().__init__()\n",
        "    #the model architecture\n",
        "    # lets creat a 1 hidden layer neural network but infdeed 3 layers\n",
        "    self.layer_1 = nn.Linear(in_features=8, out_features=10)\n",
        "    self.layer_2 = nn.Linear(in_features=10, out_features=5)\n",
        "    self.layer_3 = nn.Linear(in_features=5, out_features=1)\n",
        "\n",
        "\n",
        "  def forward(self, x_train_s_ten):\n",
        "  #  return(self.layer_3(self.layer_2(self.layer_1(x_train))))\n",
        "    x_train_s_ten = torch.relu(self.layer_1(x_train_s_ten))\n",
        "    x_train_s_ten = torch.relu(self.layer_2(x_train_s_ten))\n",
        "    return self.layer_3(x_train_s_ten)\n",
        "\n",
        "\n",
        "\n",
        "\n",
        "model_0 = nonlinearregression().to(device)\n",
        "model_0"
      ]
    },
    {
      "cell_type": "code",
      "execution_count": 124,
      "metadata": {
        "id": "dSuvqrmVYFL0"
      },
      "outputs": [],
      "source": [
        "#untrained_preds = model_0(x_test.to(device))\n",
        "#print(f\"Length of predictions: {len(untrained_preds)}, Shape: {untrained_preds.shape}\")\n",
        "#print(f\"Length of test samples: {len(output_test_data)}, Shape: {output_test_data.shape}\")\n",
        "#print(f\"\\nFirst 10 predictions:\\n{untrained_preds[:10]}\")\n",
        "#print(f\"\\nFirst 10 test labels:\\n{output_test_data[:10]}\")"
      ]
    },
    {
      "cell_type": "markdown",
      "metadata": {
        "id": "W84qRiia7J2s"
      },
      "source": [
        "\n",
        "\n",
        "1.   List item\n",
        "2.   List item\n",
        "\n",
        "\n",
        "\n",
        "*   setting optimizer and loss function\n"
      ]
    },
    {
      "cell_type": "code",
      "execution_count": 125,
      "metadata": {
        "id": "W8QfKKXu_jx4"
      },
      "outputs": [],
      "source": [
        "# Create a loss function\n",
        "#using mean square error\n",
        "loss_fn = nn.MSELoss()\n",
        "\n",
        "# Create an optimizer\n",
        "optimizer = torch.optim.SGD(params=model_0.parameters(),\n",
        "                            lr=0.01)"
      ]
    },
    {
      "cell_type": "markdown",
      "source": [
        "to have an early stopper we define it within an object oriented coding"
      ],
      "metadata": {
        "id": "RuN1yw4e0B3o"
      }
    },
    {
      "cell_type": "code",
      "source": [
        "class EarlyStopping:\n",
        "    def __init__(self, tolerance, min_delta):\n",
        "\n",
        "        self.tolerance = tolerance\n",
        "        self.min_delta = min_delta\n",
        "        self.counter = 0\n",
        "        self.min_validation_loss = float('inf')\n",
        "        self.early_stop = False\n",
        "\n",
        "    def __call__(self, test_loss):\n",
        "        if test_loss < self.min_validation_loss:\n",
        "          self.min_validation_loss = test_loss\n",
        "          self.counter = 0\n",
        "        elif test_loss > (self.min_validation_loss + self.min_delta):\n",
        "          self.counter += 1\n",
        "          if self.counter >= self.tolerance:\n",
        "            self.early_stop = True"
      ],
      "metadata": {
        "id": "ez8RTmDI0P4v"
      },
      "execution_count": 126,
      "outputs": []
    },
    {
      "cell_type": "markdown",
      "metadata": {
        "id": "dr6jZu9xD2HW"
      },
      "source": [
        "\n",
        "\n",
        "*   test and train loop\n"
      ]
    },
    {
      "cell_type": "code",
      "execution_count": 127,
      "metadata": {
        "colab": {
          "base_uri": "https://localhost:8080/",
          "height": 537
        },
        "id": "6KTOyCuiD1nL",
        "outputId": "4cf18e30-654c-4f40-cd30-505fa2277c3e"
      },
      "outputs": [
        {
          "output_type": "stream",
          "name": "stdout",
          "text": [
            "Epoch: 0 | Loss: 0.4110512 | Test loss: 0.3893235 \n"
          ]
        },
        {
          "output_type": "stream",
          "name": "stderr",
          "text": [
            "/usr/local/lib/python3.11/dist-packages/torch/nn/modules/loss.py:608: UserWarning: Using a target size (torch.Size([147, 1])) that is different to the input size (torch.Size([147])). This will likely lead to incorrect results due to broadcasting. Please ensure they have the same size.\n",
            "  return F.mse_loss(input, target, reduction=self.reduction)\n"
          ]
        },
        {
          "output_type": "stream",
          "name": "stdout",
          "text": [
            "Epoch: 100 | Loss: 0.0181600 | Test loss: 0.0212597 \n",
            "We are at epoch: 128\n"
          ]
        },
        {
          "output_type": "display_data",
          "data": {
            "text/plain": [
              "<Figure size 640x480 with 1 Axes>"
            ],
            "image/png": "[encoded data removed]"
          },
          "metadata": {}
        }
      ],
      "source": [
        "torch.manual_seed(42)\n",
        "\n",
        "#setting the early stoppper\n",
        "early_stopping = EarlyStopping(tolerance=3, min_delta=0.000001)\n",
        "\n",
        "# Set the number of epochs\n",
        "epochs = 1000\n",
        "epochs_count = []\n",
        "train_loss_values = []\n",
        "eval_loss_values  = []\n",
        "\n",
        "# Put data to target device\n",
        "x_train_s_ten, y_train_s_ten = x_train_s_ten.to(device), y_train_s_ten.to(device)\n",
        "x_test_s_ten, y_test_s_ten = x_test_s_ten.to(device), y_test_s_ten.to(device)\n",
        "x_valid_s_ten, y_valid_s_ten = x_valid_s_ten.to(device), y_valid_s_ten.to(device)\n",
        "\n",
        "# Build training and evaluation loop\n",
        "for epoch in range(epochs):\n",
        "\n",
        "    epochs_count.append(epoch)\n",
        "\n",
        "    ### Training\n",
        "    model_0.train()\n",
        "\n",
        "    y_pred_train = model_0(x_train_s_ten).squeeze() # squeeze to remove extra `1` dimensions\n",
        "\n",
        "    loss = loss_fn(y_pred_train,y_train_s_ten)\n",
        "    train_loss_values.append(100*loss.detach().numpy())\n",
        "\n",
        "    #Optimizer zero grad\n",
        "    optimizer.zero_grad()\n",
        "\n",
        "    # 4. Loss backwards\n",
        "    loss.backward()\n",
        "\n",
        "    # 5. Optimizer step\n",
        "    optimizer.step()\n",
        "\n",
        "    ### Testing\n",
        "    model_0.eval()\n",
        "    with torch.inference_mode():\n",
        "        #Forward pass\n",
        "        y_pred_test = model_0(x_valid_s_ten.squeeze())\n",
        "        #Caculate loss\n",
        "        test_loss = loss_fn(y_pred_test,y_valid_s_ten)\n",
        "        eval_loss_values.append(100*test_loss.detach().numpy())\n",
        "\n",
        "    # Print out what's happening every 10 epochs\n",
        "    if epoch % 100 == 0:\n",
        "        print(f\"Epoch: {epoch} | Loss: {loss:.7f} | Test loss: {test_loss:.7f} \")\n",
        "\n",
        "    # EarlyStopping callback setup\n",
        "    #early_stop_callback = EarlyStopping(\n",
        "    #  monitor=\"val_loss\",  # Metric to monitor\n",
        "    #  patience=3,          # How many epochs to wait for improvement\n",
        "    #  verbose=True,        # Print messages when early stopping is triggered\n",
        "    #  mode=\"min\"           # We want to minimize the monitored metric\n",
        "    #)\n",
        "\n",
        "    #early stopping\n",
        "    early_stopping(test_loss)\n",
        "    if early_stopping.early_stop:\n",
        "      print(f\"We are at epoch: {epoch}\")\n",
        "      break\n",
        "\n",
        "plt.plot(epochs_count,train_loss_values, label=\"train loss\", color=\"blue\", marker=\"o\")\n",
        "plt.plot(epochs_count,eval_loss_values, label=\"eval loss\", color=\"red\", marker=\"s\")\n",
        "plt.legend()\n",
        "plt.show()\n"
      ]
    },
    {
      "cell_type": "markdown",
      "source": [
        "to evaluate with unseen data set which is considred as test set"
      ],
      "metadata": {
        "id": "HLOnj9E_O7Qv"
      }
    },
    {
      "cell_type": "markdown",
      "source": [
        "I recieved an error: means that you're trying to convert a PyTorch tensor (which has requires_grad=True) directly to a NumPy array. PyTorch doesn't allow this because tensors with requires_grad=True track gradients for backpropagation.\n",
        "You need to detach the tensor from the computation graph before converting it to a NumPy array."
      ],
      "metadata": {
        "id": "Hq8Bgga6Yplo"
      }
    },
    {
      "cell_type": "code",
      "source": [
        "y_preds = model_0(x_test_s_ten).detach().numpy()\n",
        "plt.scatter(y_preds,y_test_s_ten, color='red', linestyle='-', marker='o')"
      ],
      "metadata": {
        "colab": {
          "base_uri": "https://localhost:8080/",
          "height": 447
        },
        "id": "MOVQZYzbTBFw",
        "outputId": "bbcabb57-23d8-49af-831d-debd7f7d4cea"
      },
      "execution_count": 130,
      "outputs": [
        {
          "output_type": "execute_result",
          "data": {
            "text/plain": [
              "<matplotlib.collections.PathCollection at 0x7bf6f571a290>"
            ]
          },
          "metadata": {},
          "execution_count": 130
        },
        {
          "output_type": "display_data",
          "data": {
            "text/plain": [
              "<Figure size 640x480 with 1 Axes>"
            ],
            "image/png": "[encoded data removed]"
          },
          "metadata": {}
        }
      ]
    }
  ],
  "metadata": {
    "colab": {
      "provenance": [],
      "authorship_tag": "ABX9TyPydCRsMfbiV2upDBccHCZY",
      "include_colab_link": true
    },
    "kernelspec": {
      "display_name": "Python 3",
      "name": "python3"
    },
    "language_info": {
      "name": "python"
    }
  },
  "nbformat": 4,
  "nbformat_minor": 0
}